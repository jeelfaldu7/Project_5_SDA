{
 "cells": [
  {
   "cell_type": "code",
   "execution_count": 2,
   "metadata": {},
   "outputs": [],
   "source": [
    "import pandas as pd\n",
    "from matplotlib import pyplot as plt\n",
    "import seaborn as sns\n",
    "import numpy as np\n",
    "from scipy import stats as st"
   ]
  },
  {
   "cell_type": "code",
   "execution_count": 3,
   "metadata": {},
   "outputs": [],
   "source": [
    "vehicles_us = pd.read_csv('vehicles_us.csv')"
   ]
  },
  {
   "cell_type": "code",
   "execution_count": 4,
   "metadata": {
    "scrolled": true
   },
   "outputs": [
    {
     "data": {
      "text/html": [
       "<div>\n",
       "<style scoped>\n",
       "    .dataframe tbody tr th:only-of-type {\n",
       "        vertical-align: middle;\n",
       "    }\n",
       "\n",
       "    .dataframe tbody tr th {\n",
       "        vertical-align: top;\n",
       "    }\n",
       "\n",
       "    .dataframe thead th {\n",
       "        text-align: right;\n",
       "    }\n",
       "</style>\n",
       "<table border=\"1\" class=\"dataframe\">\n",
       "  <thead>\n",
       "    <tr style=\"text-align: right;\">\n",
       "      <th></th>\n",
       "      <th>price</th>\n",
       "      <th>model_year</th>\n",
       "      <th>model</th>\n",
       "      <th>condition</th>\n",
       "      <th>cylinders</th>\n",
       "      <th>fuel</th>\n",
       "      <th>odometer</th>\n",
       "      <th>transmission</th>\n",
       "      <th>type</th>\n",
       "      <th>paint_color</th>\n",
       "      <th>is_4wd</th>\n",
       "      <th>date_posted</th>\n",
       "      <th>days_listed</th>\n",
       "    </tr>\n",
       "  </thead>\n",
       "  <tbody>\n",
       "    <tr>\n",
       "      <th>0</th>\n",
       "      <td>9400</td>\n",
       "      <td>2011.0</td>\n",
       "      <td>bmw x5</td>\n",
       "      <td>good</td>\n",
       "      <td>6.0</td>\n",
       "      <td>gas</td>\n",
       "      <td>145000.0</td>\n",
       "      <td>automatic</td>\n",
       "      <td>SUV</td>\n",
       "      <td>NaN</td>\n",
       "      <td>1.0</td>\n",
       "      <td>2018-06-23</td>\n",
       "      <td>19</td>\n",
       "    </tr>\n",
       "    <tr>\n",
       "      <th>1</th>\n",
       "      <td>25500</td>\n",
       "      <td>NaN</td>\n",
       "      <td>ford f-150</td>\n",
       "      <td>good</td>\n",
       "      <td>6.0</td>\n",
       "      <td>gas</td>\n",
       "      <td>88705.0</td>\n",
       "      <td>automatic</td>\n",
       "      <td>pickup</td>\n",
       "      <td>white</td>\n",
       "      <td>1.0</td>\n",
       "      <td>2018-10-19</td>\n",
       "      <td>50</td>\n",
       "    </tr>\n",
       "    <tr>\n",
       "      <th>2</th>\n",
       "      <td>5500</td>\n",
       "      <td>2013.0</td>\n",
       "      <td>hyundai sonata</td>\n",
       "      <td>like new</td>\n",
       "      <td>4.0</td>\n",
       "      <td>gas</td>\n",
       "      <td>110000.0</td>\n",
       "      <td>automatic</td>\n",
       "      <td>sedan</td>\n",
       "      <td>red</td>\n",
       "      <td>NaN</td>\n",
       "      <td>2019-02-07</td>\n",
       "      <td>79</td>\n",
       "    </tr>\n",
       "    <tr>\n",
       "      <th>3</th>\n",
       "      <td>1500</td>\n",
       "      <td>2003.0</td>\n",
       "      <td>ford f-150</td>\n",
       "      <td>fair</td>\n",
       "      <td>8.0</td>\n",
       "      <td>gas</td>\n",
       "      <td>NaN</td>\n",
       "      <td>automatic</td>\n",
       "      <td>pickup</td>\n",
       "      <td>NaN</td>\n",
       "      <td>NaN</td>\n",
       "      <td>2019-03-22</td>\n",
       "      <td>9</td>\n",
       "    </tr>\n",
       "    <tr>\n",
       "      <th>4</th>\n",
       "      <td>14900</td>\n",
       "      <td>2017.0</td>\n",
       "      <td>chrysler 200</td>\n",
       "      <td>excellent</td>\n",
       "      <td>4.0</td>\n",
       "      <td>gas</td>\n",
       "      <td>80903.0</td>\n",
       "      <td>automatic</td>\n",
       "      <td>sedan</td>\n",
       "      <td>black</td>\n",
       "      <td>NaN</td>\n",
       "      <td>2019-04-02</td>\n",
       "      <td>28</td>\n",
       "    </tr>\n",
       "    <tr>\n",
       "      <th>...</th>\n",
       "      <td>...</td>\n",
       "      <td>...</td>\n",
       "      <td>...</td>\n",
       "      <td>...</td>\n",
       "      <td>...</td>\n",
       "      <td>...</td>\n",
       "      <td>...</td>\n",
       "      <td>...</td>\n",
       "      <td>...</td>\n",
       "      <td>...</td>\n",
       "      <td>...</td>\n",
       "      <td>...</td>\n",
       "      <td>...</td>\n",
       "    </tr>\n",
       "    <tr>\n",
       "      <th>51520</th>\n",
       "      <td>9249</td>\n",
       "      <td>2013.0</td>\n",
       "      <td>nissan maxima</td>\n",
       "      <td>like new</td>\n",
       "      <td>6.0</td>\n",
       "      <td>gas</td>\n",
       "      <td>88136.0</td>\n",
       "      <td>automatic</td>\n",
       "      <td>sedan</td>\n",
       "      <td>black</td>\n",
       "      <td>NaN</td>\n",
       "      <td>2018-10-03</td>\n",
       "      <td>37</td>\n",
       "    </tr>\n",
       "    <tr>\n",
       "      <th>51521</th>\n",
       "      <td>2700</td>\n",
       "      <td>2002.0</td>\n",
       "      <td>honda civic</td>\n",
       "      <td>salvage</td>\n",
       "      <td>4.0</td>\n",
       "      <td>gas</td>\n",
       "      <td>181500.0</td>\n",
       "      <td>automatic</td>\n",
       "      <td>sedan</td>\n",
       "      <td>white</td>\n",
       "      <td>NaN</td>\n",
       "      <td>2018-11-14</td>\n",
       "      <td>22</td>\n",
       "    </tr>\n",
       "    <tr>\n",
       "      <th>51522</th>\n",
       "      <td>3950</td>\n",
       "      <td>2009.0</td>\n",
       "      <td>hyundai sonata</td>\n",
       "      <td>excellent</td>\n",
       "      <td>4.0</td>\n",
       "      <td>gas</td>\n",
       "      <td>128000.0</td>\n",
       "      <td>automatic</td>\n",
       "      <td>sedan</td>\n",
       "      <td>blue</td>\n",
       "      <td>NaN</td>\n",
       "      <td>2018-11-15</td>\n",
       "      <td>32</td>\n",
       "    </tr>\n",
       "    <tr>\n",
       "      <th>51523</th>\n",
       "      <td>7455</td>\n",
       "      <td>2013.0</td>\n",
       "      <td>toyota corolla</td>\n",
       "      <td>good</td>\n",
       "      <td>4.0</td>\n",
       "      <td>gas</td>\n",
       "      <td>139573.0</td>\n",
       "      <td>automatic</td>\n",
       "      <td>sedan</td>\n",
       "      <td>black</td>\n",
       "      <td>NaN</td>\n",
       "      <td>2018-07-02</td>\n",
       "      <td>71</td>\n",
       "    </tr>\n",
       "    <tr>\n",
       "      <th>51524</th>\n",
       "      <td>6300</td>\n",
       "      <td>2014.0</td>\n",
       "      <td>nissan altima</td>\n",
       "      <td>good</td>\n",
       "      <td>4.0</td>\n",
       "      <td>gas</td>\n",
       "      <td>NaN</td>\n",
       "      <td>automatic</td>\n",
       "      <td>sedan</td>\n",
       "      <td>NaN</td>\n",
       "      <td>NaN</td>\n",
       "      <td>2018-06-05</td>\n",
       "      <td>10</td>\n",
       "    </tr>\n",
       "  </tbody>\n",
       "</table>\n",
       "<p>51525 rows × 13 columns</p>\n",
       "</div>"
      ],
      "text/plain": [
       "       price  model_year           model  condition  cylinders fuel  odometer  \\\n",
       "0       9400      2011.0          bmw x5       good        6.0  gas  145000.0   \n",
       "1      25500         NaN      ford f-150       good        6.0  gas   88705.0   \n",
       "2       5500      2013.0  hyundai sonata   like new        4.0  gas  110000.0   \n",
       "3       1500      2003.0      ford f-150       fair        8.0  gas       NaN   \n",
       "4      14900      2017.0    chrysler 200  excellent        4.0  gas   80903.0   \n",
       "...      ...         ...             ...        ...        ...  ...       ...   \n",
       "51520   9249      2013.0   nissan maxima   like new        6.0  gas   88136.0   \n",
       "51521   2700      2002.0     honda civic    salvage        4.0  gas  181500.0   \n",
       "51522   3950      2009.0  hyundai sonata  excellent        4.0  gas  128000.0   \n",
       "51523   7455      2013.0  toyota corolla       good        4.0  gas  139573.0   \n",
       "51524   6300      2014.0   nissan altima       good        4.0  gas       NaN   \n",
       "\n",
       "      transmission    type paint_color  is_4wd date_posted  days_listed  \n",
       "0        automatic     SUV         NaN     1.0  2018-06-23           19  \n",
       "1        automatic  pickup       white     1.0  2018-10-19           50  \n",
       "2        automatic   sedan         red     NaN  2019-02-07           79  \n",
       "3        automatic  pickup         NaN     NaN  2019-03-22            9  \n",
       "4        automatic   sedan       black     NaN  2019-04-02           28  \n",
       "...            ...     ...         ...     ...         ...          ...  \n",
       "51520    automatic   sedan       black     NaN  2018-10-03           37  \n",
       "51521    automatic   sedan       white     NaN  2018-11-14           22  \n",
       "51522    automatic   sedan        blue     NaN  2018-11-15           32  \n",
       "51523    automatic   sedan       black     NaN  2018-07-02           71  \n",
       "51524    automatic   sedan         NaN     NaN  2018-06-05           10  \n",
       "\n",
       "[51525 rows x 13 columns]"
      ]
     },
     "metadata": {},
     "output_type": "display_data"
    }
   ],
   "source": [
    "display(vehicles_us)"
   ]
  },
  {
   "cell_type": "code",
   "execution_count": 4,
   "metadata": {},
   "outputs": [
    {
     "data": {
      "text/html": [
       "<div>\n",
       "<style scoped>\n",
       "    .dataframe tbody tr th:only-of-type {\n",
       "        vertical-align: middle;\n",
       "    }\n",
       "\n",
       "    .dataframe tbody tr th {\n",
       "        vertical-align: top;\n",
       "    }\n",
       "\n",
       "    .dataframe thead th {\n",
       "        text-align: right;\n",
       "    }\n",
       "</style>\n",
       "<table border=\"1\" class=\"dataframe\">\n",
       "  <thead>\n",
       "    <tr style=\"text-align: right;\">\n",
       "      <th></th>\n",
       "      <th>price</th>\n",
       "      <th>model_year</th>\n",
       "      <th>model</th>\n",
       "      <th>condition</th>\n",
       "      <th>cylinders</th>\n",
       "      <th>fuel</th>\n",
       "      <th>odometer</th>\n",
       "      <th>transmission</th>\n",
       "      <th>type</th>\n",
       "      <th>paint_color</th>\n",
       "      <th>is_4wd</th>\n",
       "      <th>date_posted</th>\n",
       "      <th>days_listed</th>\n",
       "    </tr>\n",
       "  </thead>\n",
       "  <tbody>\n",
       "    <tr>\n",
       "      <th>0</th>\n",
       "      <td>9400</td>\n",
       "      <td>2011.0</td>\n",
       "      <td>bmw x5</td>\n",
       "      <td>good</td>\n",
       "      <td>6.0</td>\n",
       "      <td>gas</td>\n",
       "      <td>145000.0</td>\n",
       "      <td>automatic</td>\n",
       "      <td>SUV</td>\n",
       "      <td>NaN</td>\n",
       "      <td>1.0</td>\n",
       "      <td>2018-06-23</td>\n",
       "      <td>19</td>\n",
       "    </tr>\n",
       "    <tr>\n",
       "      <th>1</th>\n",
       "      <td>25500</td>\n",
       "      <td>NaN</td>\n",
       "      <td>ford f-150</td>\n",
       "      <td>good</td>\n",
       "      <td>6.0</td>\n",
       "      <td>gas</td>\n",
       "      <td>88705.0</td>\n",
       "      <td>automatic</td>\n",
       "      <td>pickup</td>\n",
       "      <td>white</td>\n",
       "      <td>1.0</td>\n",
       "      <td>2018-10-19</td>\n",
       "      <td>50</td>\n",
       "    </tr>\n",
       "    <tr>\n",
       "      <th>2</th>\n",
       "      <td>5500</td>\n",
       "      <td>2013.0</td>\n",
       "      <td>hyundai sonata</td>\n",
       "      <td>like new</td>\n",
       "      <td>4.0</td>\n",
       "      <td>gas</td>\n",
       "      <td>110000.0</td>\n",
       "      <td>automatic</td>\n",
       "      <td>sedan</td>\n",
       "      <td>red</td>\n",
       "      <td>NaN</td>\n",
       "      <td>2019-02-07</td>\n",
       "      <td>79</td>\n",
       "    </tr>\n",
       "    <tr>\n",
       "      <th>3</th>\n",
       "      <td>1500</td>\n",
       "      <td>2003.0</td>\n",
       "      <td>ford f-150</td>\n",
       "      <td>fair</td>\n",
       "      <td>8.0</td>\n",
       "      <td>gas</td>\n",
       "      <td>NaN</td>\n",
       "      <td>automatic</td>\n",
       "      <td>pickup</td>\n",
       "      <td>NaN</td>\n",
       "      <td>NaN</td>\n",
       "      <td>2019-03-22</td>\n",
       "      <td>9</td>\n",
       "    </tr>\n",
       "    <tr>\n",
       "      <th>4</th>\n",
       "      <td>14900</td>\n",
       "      <td>2017.0</td>\n",
       "      <td>chrysler 200</td>\n",
       "      <td>excellent</td>\n",
       "      <td>4.0</td>\n",
       "      <td>gas</td>\n",
       "      <td>80903.0</td>\n",
       "      <td>automatic</td>\n",
       "      <td>sedan</td>\n",
       "      <td>black</td>\n",
       "      <td>NaN</td>\n",
       "      <td>2019-04-02</td>\n",
       "      <td>28</td>\n",
       "    </tr>\n",
       "  </tbody>\n",
       "</table>\n",
       "</div>"
      ],
      "text/plain": [
       "   price  model_year           model  condition  cylinders fuel  odometer  \\\n",
       "0   9400      2011.0          bmw x5       good        6.0  gas  145000.0   \n",
       "1  25500         NaN      ford f-150       good        6.0  gas   88705.0   \n",
       "2   5500      2013.0  hyundai sonata   like new        4.0  gas  110000.0   \n",
       "3   1500      2003.0      ford f-150       fair        8.0  gas       NaN   \n",
       "4  14900      2017.0    chrysler 200  excellent        4.0  gas   80903.0   \n",
       "\n",
       "  transmission    type paint_color  is_4wd date_posted  days_listed  \n",
       "0    automatic     SUV         NaN     1.0  2018-06-23           19  \n",
       "1    automatic  pickup       white     1.0  2018-10-19           50  \n",
       "2    automatic   sedan         red     NaN  2019-02-07           79  \n",
       "3    automatic  pickup         NaN     NaN  2019-03-22            9  \n",
       "4    automatic   sedan       black     NaN  2019-04-02           28  "
      ]
     },
     "metadata": {},
     "output_type": "display_data"
    },
    {
     "name": "stdout",
     "output_type": "stream",
     "text": [
      "\n",
      "The DataFrame has 51525 rows and 13 columns\n",
      "<class 'pandas.core.frame.DataFrame'>\n",
      "RangeIndex: 51525 entries, 0 to 51524\n",
      "Data columns (total 13 columns):\n",
      " #   Column        Non-Null Count  Dtype  \n",
      "---  ------        --------------  -----  \n",
      " 0   price         51525 non-null  int64  \n",
      " 1   model_year    47906 non-null  float64\n",
      " 2   model         51525 non-null  object \n",
      " 3   condition     51525 non-null  object \n",
      " 4   cylinders     46265 non-null  float64\n",
      " 5   fuel          51525 non-null  object \n",
      " 6   odometer      43633 non-null  float64\n",
      " 7   transmission  51525 non-null  object \n",
      " 8   type          51525 non-null  object \n",
      " 9   paint_color   42258 non-null  object \n",
      " 10  is_4wd        25572 non-null  float64\n",
      " 11  date_posted   51525 non-null  object \n",
      " 12  days_listed   51525 non-null  int64  \n",
      "dtypes: float64(4), int64(2), object(7)\n",
      "memory usage: 5.1+ MB\n"
     ]
    },
    {
     "data": {
      "text/html": [
       "<div>\n",
       "<style scoped>\n",
       "    .dataframe tbody tr th:only-of-type {\n",
       "        vertical-align: middle;\n",
       "    }\n",
       "\n",
       "    .dataframe tbody tr th {\n",
       "        vertical-align: top;\n",
       "    }\n",
       "\n",
       "    .dataframe thead th {\n",
       "        text-align: right;\n",
       "    }\n",
       "</style>\n",
       "<table border=\"1\" class=\"dataframe\">\n",
       "  <thead>\n",
       "    <tr style=\"text-align: right;\">\n",
       "      <th></th>\n",
       "      <th>price</th>\n",
       "      <th>model_year</th>\n",
       "      <th>cylinders</th>\n",
       "      <th>odometer</th>\n",
       "      <th>is_4wd</th>\n",
       "      <th>days_listed</th>\n",
       "    </tr>\n",
       "  </thead>\n",
       "  <tbody>\n",
       "    <tr>\n",
       "      <th>count</th>\n",
       "      <td>51525.000000</td>\n",
       "      <td>47906.000000</td>\n",
       "      <td>46265.000000</td>\n",
       "      <td>43633.000000</td>\n",
       "      <td>25572.0</td>\n",
       "      <td>51525.00000</td>\n",
       "    </tr>\n",
       "    <tr>\n",
       "      <th>mean</th>\n",
       "      <td>12132.464920</td>\n",
       "      <td>2009.750470</td>\n",
       "      <td>6.125235</td>\n",
       "      <td>115553.461738</td>\n",
       "      <td>1.0</td>\n",
       "      <td>39.55476</td>\n",
       "    </tr>\n",
       "    <tr>\n",
       "      <th>std</th>\n",
       "      <td>10040.803015</td>\n",
       "      <td>6.282065</td>\n",
       "      <td>1.660360</td>\n",
       "      <td>65094.611341</td>\n",
       "      <td>0.0</td>\n",
       "      <td>28.20427</td>\n",
       "    </tr>\n",
       "    <tr>\n",
       "      <th>min</th>\n",
       "      <td>1.000000</td>\n",
       "      <td>1908.000000</td>\n",
       "      <td>3.000000</td>\n",
       "      <td>0.000000</td>\n",
       "      <td>1.0</td>\n",
       "      <td>0.00000</td>\n",
       "    </tr>\n",
       "    <tr>\n",
       "      <th>25%</th>\n",
       "      <td>5000.000000</td>\n",
       "      <td>2006.000000</td>\n",
       "      <td>4.000000</td>\n",
       "      <td>70000.000000</td>\n",
       "      <td>1.0</td>\n",
       "      <td>19.00000</td>\n",
       "    </tr>\n",
       "    <tr>\n",
       "      <th>50%</th>\n",
       "      <td>9000.000000</td>\n",
       "      <td>2011.000000</td>\n",
       "      <td>6.000000</td>\n",
       "      <td>113000.000000</td>\n",
       "      <td>1.0</td>\n",
       "      <td>33.00000</td>\n",
       "    </tr>\n",
       "    <tr>\n",
       "      <th>75%</th>\n",
       "      <td>16839.000000</td>\n",
       "      <td>2014.000000</td>\n",
       "      <td>8.000000</td>\n",
       "      <td>155000.000000</td>\n",
       "      <td>1.0</td>\n",
       "      <td>53.00000</td>\n",
       "    </tr>\n",
       "    <tr>\n",
       "      <th>max</th>\n",
       "      <td>375000.000000</td>\n",
       "      <td>2019.000000</td>\n",
       "      <td>12.000000</td>\n",
       "      <td>990000.000000</td>\n",
       "      <td>1.0</td>\n",
       "      <td>271.00000</td>\n",
       "    </tr>\n",
       "  </tbody>\n",
       "</table>\n",
       "</div>"
      ],
      "text/plain": [
       "               price    model_year     cylinders       odometer   is_4wd  \\\n",
       "count   51525.000000  47906.000000  46265.000000   43633.000000  25572.0   \n",
       "mean    12132.464920   2009.750470      6.125235  115553.461738      1.0   \n",
       "std     10040.803015      6.282065      1.660360   65094.611341      0.0   \n",
       "min         1.000000   1908.000000      3.000000       0.000000      1.0   \n",
       "25%      5000.000000   2006.000000      4.000000   70000.000000      1.0   \n",
       "50%      9000.000000   2011.000000      6.000000  113000.000000      1.0   \n",
       "75%     16839.000000   2014.000000      8.000000  155000.000000      1.0   \n",
       "max    375000.000000   2019.000000     12.000000  990000.000000      1.0   \n",
       "\n",
       "       days_listed  \n",
       "count  51525.00000  \n",
       "mean      39.55476  \n",
       "std       28.20427  \n",
       "min        0.00000  \n",
       "25%       19.00000  \n",
       "50%       33.00000  \n",
       "75%       53.00000  \n",
       "max      271.00000  "
      ]
     },
     "execution_count": 4,
     "metadata": {},
     "output_type": "execute_result"
    }
   ],
   "source": [
    "display(vehicles_us.head())\n",
    "print()\n",
    "n_rows, n_cols = vehicles_us.shape\n",
    "print(f\"The DataFrame has {n_rows} rows and {n_cols} columns\") \n",
    "vehicles_us.info()\n",
    "vehicles_us.describe()"
   ]
  },
  {
   "cell_type": "code",
   "execution_count": 5,
   "metadata": {},
   "outputs": [
    {
     "data": {
      "text/html": [
       "<div>\n",
       "<style scoped>\n",
       "    .dataframe tbody tr th:only-of-type {\n",
       "        vertical-align: middle;\n",
       "    }\n",
       "\n",
       "    .dataframe tbody tr th {\n",
       "        vertical-align: top;\n",
       "    }\n",
       "\n",
       "    .dataframe thead th {\n",
       "        text-align: right;\n",
       "    }\n",
       "</style>\n",
       "<table border=\"1\" class=\"dataframe\">\n",
       "  <thead>\n",
       "    <tr style=\"text-align: right;\">\n",
       "      <th></th>\n",
       "      <th>price</th>\n",
       "      <th>model_year</th>\n",
       "      <th>model</th>\n",
       "      <th>condition</th>\n",
       "      <th>cylinders</th>\n",
       "      <th>fuel</th>\n",
       "      <th>odometer</th>\n",
       "      <th>transmission</th>\n",
       "      <th>type</th>\n",
       "      <th>paint_color</th>\n",
       "      <th>is_4wd</th>\n",
       "      <th>date_posted</th>\n",
       "      <th>days_listed</th>\n",
       "    </tr>\n",
       "  </thead>\n",
       "  <tbody>\n",
       "    <tr>\n",
       "      <th>655</th>\n",
       "      <td>1999</td>\n",
       "      <td>2007.0</td>\n",
       "      <td>honda pilot</td>\n",
       "      <td>good</td>\n",
       "      <td>6.0</td>\n",
       "      <td>gas</td>\n",
       "      <td>288000.0</td>\n",
       "      <td>automatic</td>\n",
       "      <td>SUV</td>\n",
       "      <td>custom</td>\n",
       "      <td>1.0</td>\n",
       "      <td>2018-12-18</td>\n",
       "      <td>83</td>\n",
       "    </tr>\n",
       "  </tbody>\n",
       "</table>\n",
       "</div>"
      ],
      "text/plain": [
       "     price  model_year        model condition  cylinders fuel  odometer  \\\n",
       "655   1999      2007.0  honda pilot      good        6.0  gas  288000.0   \n",
       "\n",
       "    transmission type paint_color  is_4wd date_posted  days_listed  \n",
       "655    automatic  SUV      custom     1.0  2018-12-18           83  "
      ]
     },
     "metadata": {},
     "output_type": "display_data"
    }
   ],
   "source": [
    "display(vehicles_us.sample())"
   ]
  },
  {
   "cell_type": "code",
   "execution_count": 6,
   "metadata": {},
   "outputs": [
    {
     "name": "stdout",
     "output_type": "stream",
     "text": [
      "Empty DataFrame\n",
      "Columns: [price, model_year, model, condition, cylinders, fuel, odometer, transmission, type, paint_color, is_4wd, date_posted, days_listed]\n",
      "Index: []\n",
      "Number of duplicated vehicles: 0\n"
     ]
    }
   ],
   "source": [
    "duplicated_vehicles_us = vehicles_us[vehicles_us.duplicated()]\n",
    "print(duplicated_vehicles_us)\n",
    "print(f\"Number of duplicated vehicles: {duplicated_vehicles_us.shape[0]}\")"
   ]
  },
  {
   "cell_type": "code",
   "execution_count": 7,
   "metadata": {},
   "outputs": [
    {
     "name": "stdout",
     "output_type": "stream",
     "text": [
      "<class 'pandas.core.frame.DataFrame'>\n",
      "RangeIndex: 51525 entries, 0 to 51524\n",
      "Data columns (total 13 columns):\n",
      " #   Column        Non-Null Count  Dtype  \n",
      "---  ------        --------------  -----  \n",
      " 0   price         51525 non-null  int64  \n",
      " 1   model_year    47906 non-null  float64\n",
      " 2   model         51525 non-null  object \n",
      " 3   condition     51525 non-null  object \n",
      " 4   cylinders     46265 non-null  float64\n",
      " 5   fuel          51525 non-null  object \n",
      " 6   odometer      43633 non-null  float64\n",
      " 7   transmission  51525 non-null  object \n",
      " 8   type          51525 non-null  object \n",
      " 9   paint_color   42258 non-null  object \n",
      " 10  is_4wd        25572 non-null  float64\n",
      " 11  date_posted   51525 non-null  object \n",
      " 12  days_listed   51525 non-null  int64  \n",
      "dtypes: float64(4), int64(2), object(7)\n",
      "memory usage: 5.1+ MB\n"
     ]
    }
   ],
   "source": [
    "vehicles_us.info()"
   ]
  },
  {
   "cell_type": "code",
   "execution_count": 8,
   "metadata": {},
   "outputs": [
    {
     "data": {
      "text/plain": [
       "price               0\n",
       "model_year       3619\n",
       "model               0\n",
       "condition           0\n",
       "cylinders        5260\n",
       "fuel                0\n",
       "odometer         7892\n",
       "transmission        0\n",
       "type                0\n",
       "paint_color      9267\n",
       "is_4wd          25953\n",
       "date_posted         0\n",
       "days_listed         0\n",
       "dtype: int64"
      ]
     },
     "metadata": {},
     "output_type": "display_data"
    }
   ],
   "source": [
    "display(vehicles_us.isna().sum())"
   ]
  },
  {
   "cell_type": "code",
   "execution_count": 9,
   "metadata": {},
   "outputs": [
    {
     "data": {
      "text/html": [
       "<div>\n",
       "<style scoped>\n",
       "    .dataframe tbody tr th:only-of-type {\n",
       "        vertical-align: middle;\n",
       "    }\n",
       "\n",
       "    .dataframe tbody tr th {\n",
       "        vertical-align: top;\n",
       "    }\n",
       "\n",
       "    .dataframe thead th {\n",
       "        text-align: right;\n",
       "    }\n",
       "</style>\n",
       "<table border=\"1\" class=\"dataframe\">\n",
       "  <thead>\n",
       "    <tr style=\"text-align: right;\">\n",
       "      <th></th>\n",
       "      <th>price</th>\n",
       "      <th>model_year</th>\n",
       "      <th>model</th>\n",
       "      <th>condition</th>\n",
       "      <th>cylinders</th>\n",
       "      <th>fuel</th>\n",
       "      <th>odometer</th>\n",
       "      <th>transmission</th>\n",
       "      <th>type</th>\n",
       "      <th>paint_color</th>\n",
       "      <th>is_4wd</th>\n",
       "      <th>date_posted</th>\n",
       "      <th>days_listed</th>\n",
       "    </tr>\n",
       "  </thead>\n",
       "  <tbody>\n",
       "    <tr>\n",
       "      <th>3</th>\n",
       "      <td>1500</td>\n",
       "      <td>2003.0</td>\n",
       "      <td>ford f-150</td>\n",
       "      <td>fair</td>\n",
       "      <td>8.0</td>\n",
       "      <td>gas</td>\n",
       "      <td>NaN</td>\n",
       "      <td>automatic</td>\n",
       "      <td>pickup</td>\n",
       "      <td>NaN</td>\n",
       "      <td>NaN</td>\n",
       "      <td>2019-03-22</td>\n",
       "      <td>9</td>\n",
       "    </tr>\n",
       "    <tr>\n",
       "      <th>15</th>\n",
       "      <td>17990</td>\n",
       "      <td>2013.0</td>\n",
       "      <td>ram 1500</td>\n",
       "      <td>excellent</td>\n",
       "      <td>8.0</td>\n",
       "      <td>gas</td>\n",
       "      <td>NaN</td>\n",
       "      <td>automatic</td>\n",
       "      <td>pickup</td>\n",
       "      <td>red</td>\n",
       "      <td>1.0</td>\n",
       "      <td>2018-05-15</td>\n",
       "      <td>111</td>\n",
       "    </tr>\n",
       "    <tr>\n",
       "      <th>23</th>\n",
       "      <td>7500</td>\n",
       "      <td>2004.0</td>\n",
       "      <td>jeep wrangler</td>\n",
       "      <td>good</td>\n",
       "      <td>6.0</td>\n",
       "      <td>gas</td>\n",
       "      <td>NaN</td>\n",
       "      <td>automatic</td>\n",
       "      <td>SUV</td>\n",
       "      <td>red</td>\n",
       "      <td>1.0</td>\n",
       "      <td>2018-05-17</td>\n",
       "      <td>39</td>\n",
       "    </tr>\n",
       "    <tr>\n",
       "      <th>24</th>\n",
       "      <td>3950</td>\n",
       "      <td>2009.0</td>\n",
       "      <td>chrysler 200</td>\n",
       "      <td>excellent</td>\n",
       "      <td>4.0</td>\n",
       "      <td>gas</td>\n",
       "      <td>NaN</td>\n",
       "      <td>automatic</td>\n",
       "      <td>sedan</td>\n",
       "      <td>red</td>\n",
       "      <td>NaN</td>\n",
       "      <td>2018-06-11</td>\n",
       "      <td>40</td>\n",
       "    </tr>\n",
       "    <tr>\n",
       "      <th>25</th>\n",
       "      <td>11499</td>\n",
       "      <td>2017.0</td>\n",
       "      <td>chevrolet malibu</td>\n",
       "      <td>like new</td>\n",
       "      <td>4.0</td>\n",
       "      <td>gas</td>\n",
       "      <td>NaN</td>\n",
       "      <td>automatic</td>\n",
       "      <td>sedan</td>\n",
       "      <td>NaN</td>\n",
       "      <td>NaN</td>\n",
       "      <td>2018-07-26</td>\n",
       "      <td>43</td>\n",
       "    </tr>\n",
       "    <tr>\n",
       "      <th>...</th>\n",
       "      <td>...</td>\n",
       "      <td>...</td>\n",
       "      <td>...</td>\n",
       "      <td>...</td>\n",
       "      <td>...</td>\n",
       "      <td>...</td>\n",
       "      <td>...</td>\n",
       "      <td>...</td>\n",
       "      <td>...</td>\n",
       "      <td>...</td>\n",
       "      <td>...</td>\n",
       "      <td>...</td>\n",
       "      <td>...</td>\n",
       "    </tr>\n",
       "    <tr>\n",
       "      <th>51498</th>\n",
       "      <td>15900</td>\n",
       "      <td>2011.0</td>\n",
       "      <td>gmc sierra 1500</td>\n",
       "      <td>excellent</td>\n",
       "      <td>8.0</td>\n",
       "      <td>gas</td>\n",
       "      <td>NaN</td>\n",
       "      <td>automatic</td>\n",
       "      <td>truck</td>\n",
       "      <td>NaN</td>\n",
       "      <td>1.0</td>\n",
       "      <td>2019-01-25</td>\n",
       "      <td>69</td>\n",
       "    </tr>\n",
       "    <tr>\n",
       "      <th>51507</th>\n",
       "      <td>29500</td>\n",
       "      <td>2012.0</td>\n",
       "      <td>toyota tundra</td>\n",
       "      <td>good</td>\n",
       "      <td>8.0</td>\n",
       "      <td>gas</td>\n",
       "      <td>NaN</td>\n",
       "      <td>automatic</td>\n",
       "      <td>pickup</td>\n",
       "      <td>grey</td>\n",
       "      <td>1.0</td>\n",
       "      <td>2018-05-01</td>\n",
       "      <td>31</td>\n",
       "    </tr>\n",
       "    <tr>\n",
       "      <th>51516</th>\n",
       "      <td>8999</td>\n",
       "      <td>2011.0</td>\n",
       "      <td>jeep grand cherokee</td>\n",
       "      <td>good</td>\n",
       "      <td>6.0</td>\n",
       "      <td>gas</td>\n",
       "      <td>NaN</td>\n",
       "      <td>automatic</td>\n",
       "      <td>SUV</td>\n",
       "      <td>white</td>\n",
       "      <td>1.0</td>\n",
       "      <td>2018-11-01</td>\n",
       "      <td>51</td>\n",
       "    </tr>\n",
       "    <tr>\n",
       "      <th>51519</th>\n",
       "      <td>11750</td>\n",
       "      <td>2015.0</td>\n",
       "      <td>honda accord</td>\n",
       "      <td>excellent</td>\n",
       "      <td>4.0</td>\n",
       "      <td>gas</td>\n",
       "      <td>NaN</td>\n",
       "      <td>automatic</td>\n",
       "      <td>coupe</td>\n",
       "      <td>NaN</td>\n",
       "      <td>NaN</td>\n",
       "      <td>2018-11-24</td>\n",
       "      <td>89</td>\n",
       "    </tr>\n",
       "    <tr>\n",
       "      <th>51524</th>\n",
       "      <td>6300</td>\n",
       "      <td>2014.0</td>\n",
       "      <td>nissan altima</td>\n",
       "      <td>good</td>\n",
       "      <td>4.0</td>\n",
       "      <td>gas</td>\n",
       "      <td>NaN</td>\n",
       "      <td>automatic</td>\n",
       "      <td>sedan</td>\n",
       "      <td>NaN</td>\n",
       "      <td>NaN</td>\n",
       "      <td>2018-06-05</td>\n",
       "      <td>10</td>\n",
       "    </tr>\n",
       "  </tbody>\n",
       "</table>\n",
       "<p>7892 rows × 13 columns</p>\n",
       "</div>"
      ],
      "text/plain": [
       "       price  model_year                model  condition  cylinders fuel  \\\n",
       "3       1500      2003.0           ford f-150       fair        8.0  gas   \n",
       "15     17990      2013.0             ram 1500  excellent        8.0  gas   \n",
       "23      7500      2004.0        jeep wrangler       good        6.0  gas   \n",
       "24      3950      2009.0         chrysler 200  excellent        4.0  gas   \n",
       "25     11499      2017.0     chevrolet malibu   like new        4.0  gas   \n",
       "...      ...         ...                  ...        ...        ...  ...   \n",
       "51498  15900      2011.0      gmc sierra 1500  excellent        8.0  gas   \n",
       "51507  29500      2012.0        toyota tundra       good        8.0  gas   \n",
       "51516   8999      2011.0  jeep grand cherokee       good        6.0  gas   \n",
       "51519  11750      2015.0         honda accord  excellent        4.0  gas   \n",
       "51524   6300      2014.0        nissan altima       good        4.0  gas   \n",
       "\n",
       "       odometer transmission    type paint_color  is_4wd date_posted  \\\n",
       "3           NaN    automatic  pickup         NaN     NaN  2019-03-22   \n",
       "15          NaN    automatic  pickup         red     1.0  2018-05-15   \n",
       "23          NaN    automatic     SUV         red     1.0  2018-05-17   \n",
       "24          NaN    automatic   sedan         red     NaN  2018-06-11   \n",
       "25          NaN    automatic   sedan         NaN     NaN  2018-07-26   \n",
       "...         ...          ...     ...         ...     ...         ...   \n",
       "51498       NaN    automatic   truck         NaN     1.0  2019-01-25   \n",
       "51507       NaN    automatic  pickup        grey     1.0  2018-05-01   \n",
       "51516       NaN    automatic     SUV       white     1.0  2018-11-01   \n",
       "51519       NaN    automatic   coupe         NaN     NaN  2018-11-24   \n",
       "51524       NaN    automatic   sedan         NaN     NaN  2018-06-05   \n",
       "\n",
       "       days_listed  \n",
       "3                9  \n",
       "15             111  \n",
       "23              39  \n",
       "24              40  \n",
       "25              43  \n",
       "...            ...  \n",
       "51498           69  \n",
       "51507           31  \n",
       "51516           51  \n",
       "51519           89  \n",
       "51524           10  \n",
       "\n",
       "[7892 rows x 13 columns]"
      ]
     },
     "metadata": {},
     "output_type": "display_data"
    }
   ],
   "source": [
    "missing_odometer = vehicles_us[vehicles_us['odometer'].isna()]\n",
    "display(missing_odometer)"
   ]
  },
  {
   "cell_type": "code",
   "execution_count": 10,
   "metadata": {},
   "outputs": [
    {
     "name": "stdout",
     "output_type": "stream",
     "text": [
      "Average mileage: 115553.4617376756\n"
     ]
    }
   ],
   "source": [
    "avg_mileage = vehicles_us['odometer'].mean()\n",
    "print(\"Average mileage:\", avg_mileage)\n",
    "\n",
    "vehicles_us['odometer']  = np.ceil(vehicles_us['odometer'])\n",
    "\n",
    "vehicles_us['odometer'] = vehicles_us['odometer'].fillna(avg_mileage)"
   ]
  },
  {
   "cell_type": "code",
   "execution_count": 11,
   "metadata": {},
   "outputs": [
    {
     "data": {
      "text/html": [
       "<div>\n",
       "<style scoped>\n",
       "    .dataframe tbody tr th:only-of-type {\n",
       "        vertical-align: middle;\n",
       "    }\n",
       "\n",
       "    .dataframe tbody tr th {\n",
       "        vertical-align: top;\n",
       "    }\n",
       "\n",
       "    .dataframe thead th {\n",
       "        text-align: right;\n",
       "    }\n",
       "</style>\n",
       "<table border=\"1\" class=\"dataframe\">\n",
       "  <thead>\n",
       "    <tr style=\"text-align: right;\">\n",
       "      <th></th>\n",
       "      <th>price</th>\n",
       "      <th>model_year</th>\n",
       "      <th>model</th>\n",
       "      <th>condition</th>\n",
       "      <th>cylinders</th>\n",
       "      <th>fuel</th>\n",
       "      <th>odometer</th>\n",
       "      <th>transmission</th>\n",
       "      <th>type</th>\n",
       "      <th>paint_color</th>\n",
       "      <th>is_4wd</th>\n",
       "      <th>date_posted</th>\n",
       "      <th>days_listed</th>\n",
       "    </tr>\n",
       "  </thead>\n",
       "  <tbody>\n",
       "    <tr>\n",
       "      <th>0</th>\n",
       "      <td>9400</td>\n",
       "      <td>2011.0</td>\n",
       "      <td>bmw x5</td>\n",
       "      <td>good</td>\n",
       "      <td>6.0</td>\n",
       "      <td>gas</td>\n",
       "      <td>145000.000000</td>\n",
       "      <td>automatic</td>\n",
       "      <td>SUV</td>\n",
       "      <td>NaN</td>\n",
       "      <td>1.0</td>\n",
       "      <td>2018-06-23</td>\n",
       "      <td>19</td>\n",
       "    </tr>\n",
       "    <tr>\n",
       "      <th>3</th>\n",
       "      <td>1500</td>\n",
       "      <td>2003.0</td>\n",
       "      <td>ford f-150</td>\n",
       "      <td>fair</td>\n",
       "      <td>8.0</td>\n",
       "      <td>gas</td>\n",
       "      <td>115553.461738</td>\n",
       "      <td>automatic</td>\n",
       "      <td>pickup</td>\n",
       "      <td>NaN</td>\n",
       "      <td>NaN</td>\n",
       "      <td>2019-03-22</td>\n",
       "      <td>9</td>\n",
       "    </tr>\n",
       "    <tr>\n",
       "      <th>8</th>\n",
       "      <td>11500</td>\n",
       "      <td>2012.0</td>\n",
       "      <td>kia sorento</td>\n",
       "      <td>excellent</td>\n",
       "      <td>4.0</td>\n",
       "      <td>gas</td>\n",
       "      <td>104174.000000</td>\n",
       "      <td>automatic</td>\n",
       "      <td>SUV</td>\n",
       "      <td>NaN</td>\n",
       "      <td>1.0</td>\n",
       "      <td>2018-07-16</td>\n",
       "      <td>19</td>\n",
       "    </tr>\n",
       "    <tr>\n",
       "      <th>12</th>\n",
       "      <td>18990</td>\n",
       "      <td>2012.0</td>\n",
       "      <td>ram 1500</td>\n",
       "      <td>excellent</td>\n",
       "      <td>8.0</td>\n",
       "      <td>gas</td>\n",
       "      <td>140742.000000</td>\n",
       "      <td>automatic</td>\n",
       "      <td>pickup</td>\n",
       "      <td>NaN</td>\n",
       "      <td>1.0</td>\n",
       "      <td>2019-04-02</td>\n",
       "      <td>37</td>\n",
       "    </tr>\n",
       "    <tr>\n",
       "      <th>21</th>\n",
       "      <td>5250</td>\n",
       "      <td>2007.0</td>\n",
       "      <td>toyota rav4</td>\n",
       "      <td>good</td>\n",
       "      <td>6.0</td>\n",
       "      <td>gas</td>\n",
       "      <td>154000.000000</td>\n",
       "      <td>automatic</td>\n",
       "      <td>SUV</td>\n",
       "      <td>NaN</td>\n",
       "      <td>NaN</td>\n",
       "      <td>2018-08-22</td>\n",
       "      <td>8</td>\n",
       "    </tr>\n",
       "    <tr>\n",
       "      <th>...</th>\n",
       "      <td>...</td>\n",
       "      <td>...</td>\n",
       "      <td>...</td>\n",
       "      <td>...</td>\n",
       "      <td>...</td>\n",
       "      <td>...</td>\n",
       "      <td>...</td>\n",
       "      <td>...</td>\n",
       "      <td>...</td>\n",
       "      <td>...</td>\n",
       "      <td>...</td>\n",
       "      <td>...</td>\n",
       "      <td>...</td>\n",
       "    </tr>\n",
       "    <tr>\n",
       "      <th>51502</th>\n",
       "      <td>7995</td>\n",
       "      <td>2011.0</td>\n",
       "      <td>chevrolet equinox</td>\n",
       "      <td>like new</td>\n",
       "      <td>4.0</td>\n",
       "      <td>gas</td>\n",
       "      <td>111088.000000</td>\n",
       "      <td>automatic</td>\n",
       "      <td>SUV</td>\n",
       "      <td>NaN</td>\n",
       "      <td>NaN</td>\n",
       "      <td>2019-04-01</td>\n",
       "      <td>175</td>\n",
       "    </tr>\n",
       "    <tr>\n",
       "      <th>51503</th>\n",
       "      <td>6595</td>\n",
       "      <td>2011.0</td>\n",
       "      <td>chevrolet malibu</td>\n",
       "      <td>excellent</td>\n",
       "      <td>4.0</td>\n",
       "      <td>gas</td>\n",
       "      <td>100780.000000</td>\n",
       "      <td>automatic</td>\n",
       "      <td>sedan</td>\n",
       "      <td>NaN</td>\n",
       "      <td>NaN</td>\n",
       "      <td>2019-02-27</td>\n",
       "      <td>73</td>\n",
       "    </tr>\n",
       "    <tr>\n",
       "      <th>51506</th>\n",
       "      <td>28900</td>\n",
       "      <td>2017.0</td>\n",
       "      <td>ford f150 supercrew cab xlt</td>\n",
       "      <td>good</td>\n",
       "      <td>6.0</td>\n",
       "      <td>gas</td>\n",
       "      <td>49225.000000</td>\n",
       "      <td>automatic</td>\n",
       "      <td>pickup</td>\n",
       "      <td>NaN</td>\n",
       "      <td>1.0</td>\n",
       "      <td>2019-04-11</td>\n",
       "      <td>25</td>\n",
       "    </tr>\n",
       "    <tr>\n",
       "      <th>51519</th>\n",
       "      <td>11750</td>\n",
       "      <td>2015.0</td>\n",
       "      <td>honda accord</td>\n",
       "      <td>excellent</td>\n",
       "      <td>4.0</td>\n",
       "      <td>gas</td>\n",
       "      <td>115553.461738</td>\n",
       "      <td>automatic</td>\n",
       "      <td>coupe</td>\n",
       "      <td>NaN</td>\n",
       "      <td>NaN</td>\n",
       "      <td>2018-11-24</td>\n",
       "      <td>89</td>\n",
       "    </tr>\n",
       "    <tr>\n",
       "      <th>51524</th>\n",
       "      <td>6300</td>\n",
       "      <td>2014.0</td>\n",
       "      <td>nissan altima</td>\n",
       "      <td>good</td>\n",
       "      <td>4.0</td>\n",
       "      <td>gas</td>\n",
       "      <td>115553.461738</td>\n",
       "      <td>automatic</td>\n",
       "      <td>sedan</td>\n",
       "      <td>NaN</td>\n",
       "      <td>NaN</td>\n",
       "      <td>2018-06-05</td>\n",
       "      <td>10</td>\n",
       "    </tr>\n",
       "  </tbody>\n",
       "</table>\n",
       "<p>9267 rows × 13 columns</p>\n",
       "</div>"
      ],
      "text/plain": [
       "       price  model_year                        model  condition  cylinders  \\\n",
       "0       9400      2011.0                       bmw x5       good        6.0   \n",
       "3       1500      2003.0                   ford f-150       fair        8.0   \n",
       "8      11500      2012.0                  kia sorento  excellent        4.0   \n",
       "12     18990      2012.0                     ram 1500  excellent        8.0   \n",
       "21      5250      2007.0                  toyota rav4       good        6.0   \n",
       "...      ...         ...                          ...        ...        ...   \n",
       "51502   7995      2011.0            chevrolet equinox   like new        4.0   \n",
       "51503   6595      2011.0             chevrolet malibu  excellent        4.0   \n",
       "51506  28900      2017.0  ford f150 supercrew cab xlt       good        6.0   \n",
       "51519  11750      2015.0                 honda accord  excellent        4.0   \n",
       "51524   6300      2014.0                nissan altima       good        4.0   \n",
       "\n",
       "      fuel       odometer transmission    type paint_color  is_4wd  \\\n",
       "0      gas  145000.000000    automatic     SUV         NaN     1.0   \n",
       "3      gas  115553.461738    automatic  pickup         NaN     NaN   \n",
       "8      gas  104174.000000    automatic     SUV         NaN     1.0   \n",
       "12     gas  140742.000000    automatic  pickup         NaN     1.0   \n",
       "21     gas  154000.000000    automatic     SUV         NaN     NaN   \n",
       "...    ...            ...          ...     ...         ...     ...   \n",
       "51502  gas  111088.000000    automatic     SUV         NaN     NaN   \n",
       "51503  gas  100780.000000    automatic   sedan         NaN     NaN   \n",
       "51506  gas   49225.000000    automatic  pickup         NaN     1.0   \n",
       "51519  gas  115553.461738    automatic   coupe         NaN     NaN   \n",
       "51524  gas  115553.461738    automatic   sedan         NaN     NaN   \n",
       "\n",
       "      date_posted  days_listed  \n",
       "0      2018-06-23           19  \n",
       "3      2019-03-22            9  \n",
       "8      2018-07-16           19  \n",
       "12     2019-04-02           37  \n",
       "21     2018-08-22            8  \n",
       "...           ...          ...  \n",
       "51502  2019-04-01          175  \n",
       "51503  2019-02-27           73  \n",
       "51506  2019-04-11           25  \n",
       "51519  2018-11-24           89  \n",
       "51524  2018-06-05           10  \n",
       "\n",
       "[9267 rows x 13 columns]"
      ]
     },
     "metadata": {},
     "output_type": "display_data"
    }
   ],
   "source": [
    "missing_paint_color = vehicles_us[vehicles_us['paint_color'].isna()]\n",
    "display(missing_paint_color)"
   ]
  },
  {
   "cell_type": "code",
   "execution_count": 12,
   "metadata": {},
   "outputs": [],
   "source": [
    "vehicles_us['paint_color'] = vehicles_us['paint_color'].fillna(' ')"
   ]
  },
  {
   "cell_type": "code",
   "execution_count": 13,
   "metadata": {},
   "outputs": [
    {
     "data": {
      "text/html": [
       "<div>\n",
       "<style scoped>\n",
       "    .dataframe tbody tr th:only-of-type {\n",
       "        vertical-align: middle;\n",
       "    }\n",
       "\n",
       "    .dataframe tbody tr th {\n",
       "        vertical-align: top;\n",
       "    }\n",
       "\n",
       "    .dataframe thead th {\n",
       "        text-align: right;\n",
       "    }\n",
       "</style>\n",
       "<table border=\"1\" class=\"dataframe\">\n",
       "  <thead>\n",
       "    <tr style=\"text-align: right;\">\n",
       "      <th></th>\n",
       "      <th>price</th>\n",
       "      <th>model_year</th>\n",
       "      <th>model</th>\n",
       "      <th>condition</th>\n",
       "      <th>cylinders</th>\n",
       "      <th>fuel</th>\n",
       "      <th>odometer</th>\n",
       "      <th>transmission</th>\n",
       "      <th>type</th>\n",
       "      <th>paint_color</th>\n",
       "      <th>is_4wd</th>\n",
       "      <th>date_posted</th>\n",
       "      <th>days_listed</th>\n",
       "    </tr>\n",
       "  </thead>\n",
       "  <tbody>\n",
       "    <tr>\n",
       "      <th>2</th>\n",
       "      <td>5500</td>\n",
       "      <td>2013.0</td>\n",
       "      <td>hyundai sonata</td>\n",
       "      <td>like new</td>\n",
       "      <td>4.0</td>\n",
       "      <td>gas</td>\n",
       "      <td>110000.000000</td>\n",
       "      <td>automatic</td>\n",
       "      <td>sedan</td>\n",
       "      <td>red</td>\n",
       "      <td>NaN</td>\n",
       "      <td>2019-02-07</td>\n",
       "      <td>79</td>\n",
       "    </tr>\n",
       "    <tr>\n",
       "      <th>3</th>\n",
       "      <td>1500</td>\n",
       "      <td>2003.0</td>\n",
       "      <td>ford f-150</td>\n",
       "      <td>fair</td>\n",
       "      <td>8.0</td>\n",
       "      <td>gas</td>\n",
       "      <td>115553.461738</td>\n",
       "      <td>automatic</td>\n",
       "      <td>pickup</td>\n",
       "      <td></td>\n",
       "      <td>NaN</td>\n",
       "      <td>2019-03-22</td>\n",
       "      <td>9</td>\n",
       "    </tr>\n",
       "    <tr>\n",
       "      <th>4</th>\n",
       "      <td>14900</td>\n",
       "      <td>2017.0</td>\n",
       "      <td>chrysler 200</td>\n",
       "      <td>excellent</td>\n",
       "      <td>4.0</td>\n",
       "      <td>gas</td>\n",
       "      <td>80903.000000</td>\n",
       "      <td>automatic</td>\n",
       "      <td>sedan</td>\n",
       "      <td>black</td>\n",
       "      <td>NaN</td>\n",
       "      <td>2019-04-02</td>\n",
       "      <td>28</td>\n",
       "    </tr>\n",
       "    <tr>\n",
       "      <th>6</th>\n",
       "      <td>12990</td>\n",
       "      <td>2015.0</td>\n",
       "      <td>toyota camry</td>\n",
       "      <td>excellent</td>\n",
       "      <td>4.0</td>\n",
       "      <td>gas</td>\n",
       "      <td>79212.000000</td>\n",
       "      <td>automatic</td>\n",
       "      <td>sedan</td>\n",
       "      <td>white</td>\n",
       "      <td>NaN</td>\n",
       "      <td>2018-12-27</td>\n",
       "      <td>73</td>\n",
       "    </tr>\n",
       "    <tr>\n",
       "      <th>11</th>\n",
       "      <td>8990</td>\n",
       "      <td>2012.0</td>\n",
       "      <td>honda accord</td>\n",
       "      <td>excellent</td>\n",
       "      <td>4.0</td>\n",
       "      <td>gas</td>\n",
       "      <td>111142.000000</td>\n",
       "      <td>automatic</td>\n",
       "      <td>sedan</td>\n",
       "      <td>grey</td>\n",
       "      <td>NaN</td>\n",
       "      <td>2019-03-28</td>\n",
       "      <td>29</td>\n",
       "    </tr>\n",
       "    <tr>\n",
       "      <th>...</th>\n",
       "      <td>...</td>\n",
       "      <td>...</td>\n",
       "      <td>...</td>\n",
       "      <td>...</td>\n",
       "      <td>...</td>\n",
       "      <td>...</td>\n",
       "      <td>...</td>\n",
       "      <td>...</td>\n",
       "      <td>...</td>\n",
       "      <td>...</td>\n",
       "      <td>...</td>\n",
       "      <td>...</td>\n",
       "      <td>...</td>\n",
       "    </tr>\n",
       "    <tr>\n",
       "      <th>51520</th>\n",
       "      <td>9249</td>\n",
       "      <td>2013.0</td>\n",
       "      <td>nissan maxima</td>\n",
       "      <td>like new</td>\n",
       "      <td>6.0</td>\n",
       "      <td>gas</td>\n",
       "      <td>88136.000000</td>\n",
       "      <td>automatic</td>\n",
       "      <td>sedan</td>\n",
       "      <td>black</td>\n",
       "      <td>NaN</td>\n",
       "      <td>2018-10-03</td>\n",
       "      <td>37</td>\n",
       "    </tr>\n",
       "    <tr>\n",
       "      <th>51521</th>\n",
       "      <td>2700</td>\n",
       "      <td>2002.0</td>\n",
       "      <td>honda civic</td>\n",
       "      <td>salvage</td>\n",
       "      <td>4.0</td>\n",
       "      <td>gas</td>\n",
       "      <td>181500.000000</td>\n",
       "      <td>automatic</td>\n",
       "      <td>sedan</td>\n",
       "      <td>white</td>\n",
       "      <td>NaN</td>\n",
       "      <td>2018-11-14</td>\n",
       "      <td>22</td>\n",
       "    </tr>\n",
       "    <tr>\n",
       "      <th>51522</th>\n",
       "      <td>3950</td>\n",
       "      <td>2009.0</td>\n",
       "      <td>hyundai sonata</td>\n",
       "      <td>excellent</td>\n",
       "      <td>4.0</td>\n",
       "      <td>gas</td>\n",
       "      <td>128000.000000</td>\n",
       "      <td>automatic</td>\n",
       "      <td>sedan</td>\n",
       "      <td>blue</td>\n",
       "      <td>NaN</td>\n",
       "      <td>2018-11-15</td>\n",
       "      <td>32</td>\n",
       "    </tr>\n",
       "    <tr>\n",
       "      <th>51523</th>\n",
       "      <td>7455</td>\n",
       "      <td>2013.0</td>\n",
       "      <td>toyota corolla</td>\n",
       "      <td>good</td>\n",
       "      <td>4.0</td>\n",
       "      <td>gas</td>\n",
       "      <td>139573.000000</td>\n",
       "      <td>automatic</td>\n",
       "      <td>sedan</td>\n",
       "      <td>black</td>\n",
       "      <td>NaN</td>\n",
       "      <td>2018-07-02</td>\n",
       "      <td>71</td>\n",
       "    </tr>\n",
       "    <tr>\n",
       "      <th>51524</th>\n",
       "      <td>6300</td>\n",
       "      <td>2014.0</td>\n",
       "      <td>nissan altima</td>\n",
       "      <td>good</td>\n",
       "      <td>4.0</td>\n",
       "      <td>gas</td>\n",
       "      <td>115553.461738</td>\n",
       "      <td>automatic</td>\n",
       "      <td>sedan</td>\n",
       "      <td></td>\n",
       "      <td>NaN</td>\n",
       "      <td>2018-06-05</td>\n",
       "      <td>10</td>\n",
       "    </tr>\n",
       "  </tbody>\n",
       "</table>\n",
       "<p>25953 rows × 13 columns</p>\n",
       "</div>"
      ],
      "text/plain": [
       "       price  model_year           model  condition  cylinders fuel  \\\n",
       "2       5500      2013.0  hyundai sonata   like new        4.0  gas   \n",
       "3       1500      2003.0      ford f-150       fair        8.0  gas   \n",
       "4      14900      2017.0    chrysler 200  excellent        4.0  gas   \n",
       "6      12990      2015.0    toyota camry  excellent        4.0  gas   \n",
       "11      8990      2012.0    honda accord  excellent        4.0  gas   \n",
       "...      ...         ...             ...        ...        ...  ...   \n",
       "51520   9249      2013.0   nissan maxima   like new        6.0  gas   \n",
       "51521   2700      2002.0     honda civic    salvage        4.0  gas   \n",
       "51522   3950      2009.0  hyundai sonata  excellent        4.0  gas   \n",
       "51523   7455      2013.0  toyota corolla       good        4.0  gas   \n",
       "51524   6300      2014.0   nissan altima       good        4.0  gas   \n",
       "\n",
       "            odometer transmission    type paint_color  is_4wd date_posted  \\\n",
       "2      110000.000000    automatic   sedan         red     NaN  2019-02-07   \n",
       "3      115553.461738    automatic  pickup                 NaN  2019-03-22   \n",
       "4       80903.000000    automatic   sedan       black     NaN  2019-04-02   \n",
       "6       79212.000000    automatic   sedan       white     NaN  2018-12-27   \n",
       "11     111142.000000    automatic   sedan        grey     NaN  2019-03-28   \n",
       "...              ...          ...     ...         ...     ...         ...   \n",
       "51520   88136.000000    automatic   sedan       black     NaN  2018-10-03   \n",
       "51521  181500.000000    automatic   sedan       white     NaN  2018-11-14   \n",
       "51522  128000.000000    automatic   sedan        blue     NaN  2018-11-15   \n",
       "51523  139573.000000    automatic   sedan       black     NaN  2018-07-02   \n",
       "51524  115553.461738    automatic   sedan                 NaN  2018-06-05   \n",
       "\n",
       "       days_listed  \n",
       "2               79  \n",
       "3                9  \n",
       "4               28  \n",
       "6               73  \n",
       "11              29  \n",
       "...            ...  \n",
       "51520           37  \n",
       "51521           22  \n",
       "51522           32  \n",
       "51523           71  \n",
       "51524           10  \n",
       "\n",
       "[25953 rows x 13 columns]"
      ]
     },
     "metadata": {},
     "output_type": "display_data"
    }
   ],
   "source": [
    "missing_is_4wd = vehicles_us[vehicles_us['is_4wd'].isna()]\n",
    "display(missing_is_4wd)"
   ]
  },
  {
   "cell_type": "code",
   "execution_count": 14,
   "metadata": {},
   "outputs": [],
   "source": [
    "vehicles_us['is_4wd'] = vehicles_us['is_4wd'].fillna('0')"
   ]
  },
  {
   "cell_type": "code",
   "execution_count": 15,
   "metadata": {},
   "outputs": [
    {
     "data": {
      "text/html": [
       "<div>\n",
       "<style scoped>\n",
       "    .dataframe tbody tr th:only-of-type {\n",
       "        vertical-align: middle;\n",
       "    }\n",
       "\n",
       "    .dataframe tbody tr th {\n",
       "        vertical-align: top;\n",
       "    }\n",
       "\n",
       "    .dataframe thead th {\n",
       "        text-align: right;\n",
       "    }\n",
       "</style>\n",
       "<table border=\"1\" class=\"dataframe\">\n",
       "  <thead>\n",
       "    <tr style=\"text-align: right;\">\n",
       "      <th></th>\n",
       "      <th>price</th>\n",
       "      <th>model_year</th>\n",
       "      <th>model</th>\n",
       "      <th>condition</th>\n",
       "      <th>cylinders</th>\n",
       "      <th>fuel</th>\n",
       "      <th>odometer</th>\n",
       "      <th>transmission</th>\n",
       "      <th>type</th>\n",
       "      <th>paint_color</th>\n",
       "      <th>is_4wd</th>\n",
       "      <th>date_posted</th>\n",
       "      <th>days_listed</th>\n",
       "    </tr>\n",
       "  </thead>\n",
       "  <tbody>\n",
       "    <tr>\n",
       "      <th>9</th>\n",
       "      <td>9200</td>\n",
       "      <td>2008.0</td>\n",
       "      <td>honda pilot</td>\n",
       "      <td>excellent</td>\n",
       "      <td>NaN</td>\n",
       "      <td>gas</td>\n",
       "      <td>147191.000000</td>\n",
       "      <td>automatic</td>\n",
       "      <td>SUV</td>\n",
       "      <td>blue</td>\n",
       "      <td>1.0</td>\n",
       "      <td>2019-02-15</td>\n",
       "      <td>17</td>\n",
       "    </tr>\n",
       "    <tr>\n",
       "      <th>36</th>\n",
       "      <td>10499</td>\n",
       "      <td>2013.0</td>\n",
       "      <td>chrysler 300</td>\n",
       "      <td>good</td>\n",
       "      <td>NaN</td>\n",
       "      <td>gas</td>\n",
       "      <td>88042.000000</td>\n",
       "      <td>automatic</td>\n",
       "      <td>sedan</td>\n",
       "      <td></td>\n",
       "      <td>0</td>\n",
       "      <td>2018-05-05</td>\n",
       "      <td>22</td>\n",
       "    </tr>\n",
       "    <tr>\n",
       "      <th>37</th>\n",
       "      <td>7500</td>\n",
       "      <td>2005.0</td>\n",
       "      <td>toyota tacoma</td>\n",
       "      <td>good</td>\n",
       "      <td>NaN</td>\n",
       "      <td>gas</td>\n",
       "      <td>160000.000000</td>\n",
       "      <td>automatic</td>\n",
       "      <td>pickup</td>\n",
       "      <td></td>\n",
       "      <td>0</td>\n",
       "      <td>2018-07-22</td>\n",
       "      <td>44</td>\n",
       "    </tr>\n",
       "    <tr>\n",
       "      <th>59</th>\n",
       "      <td>5200</td>\n",
       "      <td>2006.0</td>\n",
       "      <td>toyota highlander</td>\n",
       "      <td>good</td>\n",
       "      <td>NaN</td>\n",
       "      <td>gas</td>\n",
       "      <td>186000.000000</td>\n",
       "      <td>automatic</td>\n",
       "      <td>SUV</td>\n",
       "      <td>green</td>\n",
       "      <td>0</td>\n",
       "      <td>2018-12-20</td>\n",
       "      <td>2</td>\n",
       "    </tr>\n",
       "    <tr>\n",
       "      <th>63</th>\n",
       "      <td>30000</td>\n",
       "      <td>1966.0</td>\n",
       "      <td>ford mustang</td>\n",
       "      <td>excellent</td>\n",
       "      <td>NaN</td>\n",
       "      <td>gas</td>\n",
       "      <td>51000.000000</td>\n",
       "      <td>manual</td>\n",
       "      <td>convertible</td>\n",
       "      <td>red</td>\n",
       "      <td>0</td>\n",
       "      <td>2019-01-23</td>\n",
       "      <td>17</td>\n",
       "    </tr>\n",
       "    <tr>\n",
       "      <th>...</th>\n",
       "      <td>...</td>\n",
       "      <td>...</td>\n",
       "      <td>...</td>\n",
       "      <td>...</td>\n",
       "      <td>...</td>\n",
       "      <td>...</td>\n",
       "      <td>...</td>\n",
       "      <td>...</td>\n",
       "      <td>...</td>\n",
       "      <td>...</td>\n",
       "      <td>...</td>\n",
       "      <td>...</td>\n",
       "      <td>...</td>\n",
       "    </tr>\n",
       "    <tr>\n",
       "      <th>51429</th>\n",
       "      <td>3250</td>\n",
       "      <td>2004.0</td>\n",
       "      <td>toyota camry</td>\n",
       "      <td>good</td>\n",
       "      <td>NaN</td>\n",
       "      <td>gas</td>\n",
       "      <td>179412.000000</td>\n",
       "      <td>automatic</td>\n",
       "      <td>sedan</td>\n",
       "      <td></td>\n",
       "      <td>0</td>\n",
       "      <td>2018-07-02</td>\n",
       "      <td>25</td>\n",
       "    </tr>\n",
       "    <tr>\n",
       "      <th>51442</th>\n",
       "      <td>28990</td>\n",
       "      <td>2018.0</td>\n",
       "      <td>ford f150</td>\n",
       "      <td>excellent</td>\n",
       "      <td>NaN</td>\n",
       "      <td>gas</td>\n",
       "      <td>10152.000000</td>\n",
       "      <td>automatic</td>\n",
       "      <td>truck</td>\n",
       "      <td>white</td>\n",
       "      <td>1.0</td>\n",
       "      <td>2018-06-13</td>\n",
       "      <td>47</td>\n",
       "    </tr>\n",
       "    <tr>\n",
       "      <th>51460</th>\n",
       "      <td>5995</td>\n",
       "      <td>2007.0</td>\n",
       "      <td>ford fusion</td>\n",
       "      <td>excellent</td>\n",
       "      <td>NaN</td>\n",
       "      <td>gas</td>\n",
       "      <td>88977.000000</td>\n",
       "      <td>manual</td>\n",
       "      <td>sedan</td>\n",
       "      <td>silver</td>\n",
       "      <td>0</td>\n",
       "      <td>2019-03-27</td>\n",
       "      <td>66</td>\n",
       "    </tr>\n",
       "    <tr>\n",
       "      <th>51477</th>\n",
       "      <td>6499</td>\n",
       "      <td>2007.0</td>\n",
       "      <td>acura tl</td>\n",
       "      <td>good</td>\n",
       "      <td>NaN</td>\n",
       "      <td>gas</td>\n",
       "      <td>112119.000000</td>\n",
       "      <td>automatic</td>\n",
       "      <td>sedan</td>\n",
       "      <td>white</td>\n",
       "      <td>0</td>\n",
       "      <td>2018-06-22</td>\n",
       "      <td>28</td>\n",
       "    </tr>\n",
       "    <tr>\n",
       "      <th>51486</th>\n",
       "      <td>5895</td>\n",
       "      <td>2009.0</td>\n",
       "      <td>hyundai santa fe</td>\n",
       "      <td>excellent</td>\n",
       "      <td>NaN</td>\n",
       "      <td>gas</td>\n",
       "      <td>115553.461738</td>\n",
       "      <td>automatic</td>\n",
       "      <td>other</td>\n",
       "      <td>blue</td>\n",
       "      <td>0</td>\n",
       "      <td>2018-06-30</td>\n",
       "      <td>44</td>\n",
       "    </tr>\n",
       "  </tbody>\n",
       "</table>\n",
       "<p>5260 rows × 13 columns</p>\n",
       "</div>"
      ],
      "text/plain": [
       "       price  model_year              model  condition  cylinders fuel  \\\n",
       "9       9200      2008.0        honda pilot  excellent        NaN  gas   \n",
       "36     10499      2013.0       chrysler 300       good        NaN  gas   \n",
       "37      7500      2005.0      toyota tacoma       good        NaN  gas   \n",
       "59      5200      2006.0  toyota highlander       good        NaN  gas   \n",
       "63     30000      1966.0       ford mustang  excellent        NaN  gas   \n",
       "...      ...         ...                ...        ...        ...  ...   \n",
       "51429   3250      2004.0       toyota camry       good        NaN  gas   \n",
       "51442  28990      2018.0          ford f150  excellent        NaN  gas   \n",
       "51460   5995      2007.0        ford fusion  excellent        NaN  gas   \n",
       "51477   6499      2007.0           acura tl       good        NaN  gas   \n",
       "51486   5895      2009.0   hyundai santa fe  excellent        NaN  gas   \n",
       "\n",
       "            odometer transmission         type paint_color is_4wd date_posted  \\\n",
       "9      147191.000000    automatic          SUV        blue    1.0  2019-02-15   \n",
       "36      88042.000000    automatic        sedan                  0  2018-05-05   \n",
       "37     160000.000000    automatic       pickup                  0  2018-07-22   \n",
       "59     186000.000000    automatic          SUV       green      0  2018-12-20   \n",
       "63      51000.000000       manual  convertible         red      0  2019-01-23   \n",
       "...              ...          ...          ...         ...    ...         ...   \n",
       "51429  179412.000000    automatic        sedan                  0  2018-07-02   \n",
       "51442   10152.000000    automatic        truck       white    1.0  2018-06-13   \n",
       "51460   88977.000000       manual        sedan      silver      0  2019-03-27   \n",
       "51477  112119.000000    automatic        sedan       white      0  2018-06-22   \n",
       "51486  115553.461738    automatic        other        blue      0  2018-06-30   \n",
       "\n",
       "       days_listed  \n",
       "9               17  \n",
       "36              22  \n",
       "37              44  \n",
       "59               2  \n",
       "63              17  \n",
       "...            ...  \n",
       "51429           25  \n",
       "51442           47  \n",
       "51460           66  \n",
       "51477           28  \n",
       "51486           44  \n",
       "\n",
       "[5260 rows x 13 columns]"
      ]
     },
     "metadata": {},
     "output_type": "display_data"
    }
   ],
   "source": [
    "missing_cylinders = vehicles_us[vehicles_us['cylinders'].isna()]\n",
    "display(missing_cylinders)"
   ]
  },
  {
   "cell_type": "code",
   "execution_count": 16,
   "metadata": {},
   "outputs": [
    {
     "name": "stdout",
     "output_type": "stream",
     "text": [
      "Median cylinders: 6.0\n"
     ]
    }
   ],
   "source": [
    "median_cylinders = vehicles_us['cylinders'].median()\n",
    "print(\"Median cylinders:\", median_cylinders)\n",
    "\n",
    "vehicles_us['cylinders']  = np.ceil(vehicles_us['cylinders'])\n",
    "\n",
    "vehicles_us['cylinders'] = vehicles_us['cylinders'].fillna(median_cylinders)"
   ]
  },
  {
   "cell_type": "code",
   "execution_count": 17,
   "metadata": {},
   "outputs": [
    {
     "data": {
      "text/html": [
       "<div>\n",
       "<style scoped>\n",
       "    .dataframe tbody tr th:only-of-type {\n",
       "        vertical-align: middle;\n",
       "    }\n",
       "\n",
       "    .dataframe tbody tr th {\n",
       "        vertical-align: top;\n",
       "    }\n",
       "\n",
       "    .dataframe thead th {\n",
       "        text-align: right;\n",
       "    }\n",
       "</style>\n",
       "<table border=\"1\" class=\"dataframe\">\n",
       "  <thead>\n",
       "    <tr style=\"text-align: right;\">\n",
       "      <th></th>\n",
       "      <th>price</th>\n",
       "      <th>model_year</th>\n",
       "      <th>model</th>\n",
       "      <th>condition</th>\n",
       "      <th>cylinders</th>\n",
       "      <th>fuel</th>\n",
       "      <th>odometer</th>\n",
       "      <th>transmission</th>\n",
       "      <th>type</th>\n",
       "      <th>paint_color</th>\n",
       "      <th>is_4wd</th>\n",
       "      <th>date_posted</th>\n",
       "      <th>days_listed</th>\n",
       "    </tr>\n",
       "  </thead>\n",
       "  <tbody>\n",
       "    <tr>\n",
       "      <th>1</th>\n",
       "      <td>25500</td>\n",
       "      <td>NaN</td>\n",
       "      <td>ford f-150</td>\n",
       "      <td>good</td>\n",
       "      <td>6.0</td>\n",
       "      <td>gas</td>\n",
       "      <td>88705.0</td>\n",
       "      <td>automatic</td>\n",
       "      <td>pickup</td>\n",
       "      <td>white</td>\n",
       "      <td>1.0</td>\n",
       "      <td>2018-10-19</td>\n",
       "      <td>50</td>\n",
       "    </tr>\n",
       "    <tr>\n",
       "      <th>20</th>\n",
       "      <td>6990</td>\n",
       "      <td>NaN</td>\n",
       "      <td>chevrolet tahoe</td>\n",
       "      <td>excellent</td>\n",
       "      <td>8.0</td>\n",
       "      <td>gas</td>\n",
       "      <td>147485.0</td>\n",
       "      <td>automatic</td>\n",
       "      <td>SUV</td>\n",
       "      <td>silver</td>\n",
       "      <td>1.0</td>\n",
       "      <td>2018-08-05</td>\n",
       "      <td>28</td>\n",
       "    </tr>\n",
       "    <tr>\n",
       "      <th>65</th>\n",
       "      <td>12800</td>\n",
       "      <td>NaN</td>\n",
       "      <td>ford f-150</td>\n",
       "      <td>excellent</td>\n",
       "      <td>6.0</td>\n",
       "      <td>gas</td>\n",
       "      <td>108500.0</td>\n",
       "      <td>automatic</td>\n",
       "      <td>pickup</td>\n",
       "      <td>white</td>\n",
       "      <td>0</td>\n",
       "      <td>2018-09-23</td>\n",
       "      <td>15</td>\n",
       "    </tr>\n",
       "    <tr>\n",
       "      <th>69</th>\n",
       "      <td>7800</td>\n",
       "      <td>NaN</td>\n",
       "      <td>ford f-150</td>\n",
       "      <td>like new</td>\n",
       "      <td>8.0</td>\n",
       "      <td>gas</td>\n",
       "      <td>97510.0</td>\n",
       "      <td>automatic</td>\n",
       "      <td>truck</td>\n",
       "      <td>white</td>\n",
       "      <td>1.0</td>\n",
       "      <td>2019-02-20</td>\n",
       "      <td>39</td>\n",
       "    </tr>\n",
       "    <tr>\n",
       "      <th>72</th>\n",
       "      <td>3650</td>\n",
       "      <td>NaN</td>\n",
       "      <td>subaru impreza</td>\n",
       "      <td>excellent</td>\n",
       "      <td>6.0</td>\n",
       "      <td>gas</td>\n",
       "      <td>74000.0</td>\n",
       "      <td>automatic</td>\n",
       "      <td>sedan</td>\n",
       "      <td>blue</td>\n",
       "      <td>1.0</td>\n",
       "      <td>2018-08-07</td>\n",
       "      <td>60</td>\n",
       "    </tr>\n",
       "    <tr>\n",
       "      <th>...</th>\n",
       "      <td>...</td>\n",
       "      <td>...</td>\n",
       "      <td>...</td>\n",
       "      <td>...</td>\n",
       "      <td>...</td>\n",
       "      <td>...</td>\n",
       "      <td>...</td>\n",
       "      <td>...</td>\n",
       "      <td>...</td>\n",
       "      <td>...</td>\n",
       "      <td>...</td>\n",
       "      <td>...</td>\n",
       "      <td>...</td>\n",
       "    </tr>\n",
       "    <tr>\n",
       "      <th>51464</th>\n",
       "      <td>8890</td>\n",
       "      <td>NaN</td>\n",
       "      <td>ford f250 super duty</td>\n",
       "      <td>good</td>\n",
       "      <td>8.0</td>\n",
       "      <td>gas</td>\n",
       "      <td>135778.0</td>\n",
       "      <td>automatic</td>\n",
       "      <td>truck</td>\n",
       "      <td>red</td>\n",
       "      <td>1.0</td>\n",
       "      <td>2018-11-28</td>\n",
       "      <td>24</td>\n",
       "    </tr>\n",
       "    <tr>\n",
       "      <th>51465</th>\n",
       "      <td>34595</td>\n",
       "      <td>NaN</td>\n",
       "      <td>gmc yukon</td>\n",
       "      <td>excellent</td>\n",
       "      <td>8.0</td>\n",
       "      <td>gas</td>\n",
       "      <td>86456.0</td>\n",
       "      <td>automatic</td>\n",
       "      <td>SUV</td>\n",
       "      <td>silver</td>\n",
       "      <td>1.0</td>\n",
       "      <td>2019-04-18</td>\n",
       "      <td>13</td>\n",
       "    </tr>\n",
       "    <tr>\n",
       "      <th>51487</th>\n",
       "      <td>1495</td>\n",
       "      <td>NaN</td>\n",
       "      <td>ford f-150</td>\n",
       "      <td>fair</td>\n",
       "      <td>6.0</td>\n",
       "      <td>gas</td>\n",
       "      <td>15804.0</td>\n",
       "      <td>manual</td>\n",
       "      <td>truck</td>\n",
       "      <td>white</td>\n",
       "      <td>1.0</td>\n",
       "      <td>2018-09-18</td>\n",
       "      <td>56</td>\n",
       "    </tr>\n",
       "    <tr>\n",
       "      <th>51488</th>\n",
       "      <td>21900</td>\n",
       "      <td>NaN</td>\n",
       "      <td>chevrolet silverado 3500hd</td>\n",
       "      <td>excellent</td>\n",
       "      <td>8.0</td>\n",
       "      <td>diesel</td>\n",
       "      <td>203000.0</td>\n",
       "      <td>automatic</td>\n",
       "      <td>truck</td>\n",
       "      <td>white</td>\n",
       "      <td>1.0</td>\n",
       "      <td>2018-12-27</td>\n",
       "      <td>37</td>\n",
       "    </tr>\n",
       "    <tr>\n",
       "      <th>51508</th>\n",
       "      <td>4950</td>\n",
       "      <td>NaN</td>\n",
       "      <td>chrysler town &amp; country</td>\n",
       "      <td>excellent</td>\n",
       "      <td>6.0</td>\n",
       "      <td>gas</td>\n",
       "      <td>150000.0</td>\n",
       "      <td>automatic</td>\n",
       "      <td>mini-van</td>\n",
       "      <td>silver</td>\n",
       "      <td>0</td>\n",
       "      <td>2018-06-30</td>\n",
       "      <td>48</td>\n",
       "    </tr>\n",
       "  </tbody>\n",
       "</table>\n",
       "<p>3619 rows × 13 columns</p>\n",
       "</div>"
      ],
      "text/plain": [
       "       price  model_year                       model  condition  cylinders  \\\n",
       "1      25500         NaN                  ford f-150       good        6.0   \n",
       "20      6990         NaN             chevrolet tahoe  excellent        8.0   \n",
       "65     12800         NaN                  ford f-150  excellent        6.0   \n",
       "69      7800         NaN                  ford f-150   like new        8.0   \n",
       "72      3650         NaN              subaru impreza  excellent        6.0   \n",
       "...      ...         ...                         ...        ...        ...   \n",
       "51464   8890         NaN        ford f250 super duty       good        8.0   \n",
       "51465  34595         NaN                   gmc yukon  excellent        8.0   \n",
       "51487   1495         NaN                  ford f-150       fair        6.0   \n",
       "51488  21900         NaN  chevrolet silverado 3500hd  excellent        8.0   \n",
       "51508   4950         NaN     chrysler town & country  excellent        6.0   \n",
       "\n",
       "         fuel  odometer transmission      type paint_color is_4wd date_posted  \\\n",
       "1         gas   88705.0    automatic    pickup       white    1.0  2018-10-19   \n",
       "20        gas  147485.0    automatic       SUV      silver    1.0  2018-08-05   \n",
       "65        gas  108500.0    automatic    pickup       white      0  2018-09-23   \n",
       "69        gas   97510.0    automatic     truck       white    1.0  2019-02-20   \n",
       "72        gas   74000.0    automatic     sedan        blue    1.0  2018-08-07   \n",
       "...       ...       ...          ...       ...         ...    ...         ...   \n",
       "51464     gas  135778.0    automatic     truck         red    1.0  2018-11-28   \n",
       "51465     gas   86456.0    automatic       SUV      silver    1.0  2019-04-18   \n",
       "51487     gas   15804.0       manual     truck       white    1.0  2018-09-18   \n",
       "51488  diesel  203000.0    automatic     truck       white    1.0  2018-12-27   \n",
       "51508     gas  150000.0    automatic  mini-van      silver      0  2018-06-30   \n",
       "\n",
       "       days_listed  \n",
       "1               50  \n",
       "20              28  \n",
       "65              15  \n",
       "69              39  \n",
       "72              60  \n",
       "...            ...  \n",
       "51464           24  \n",
       "51465           13  \n",
       "51487           56  \n",
       "51488           37  \n",
       "51508           48  \n",
       "\n",
       "[3619 rows x 13 columns]"
      ]
     },
     "metadata": {},
     "output_type": "display_data"
    }
   ],
   "source": [
    "missing_model_year = vehicles_us[vehicles_us['model_year'].isna()]\n",
    "display(missing_model_year)"
   ]
  },
  {
   "cell_type": "code",
   "execution_count": 44,
   "metadata": {},
   "outputs": [],
   "source": [
    "vehicles_us['model_year'] = vehicles_us['model_year'].fillna(' ')"
   ]
  },
  {
   "cell_type": "code",
   "execution_count": 45,
   "metadata": {},
   "outputs": [
    {
     "name": "stdout",
     "output_type": "stream",
     "text": [
      "price           0\n",
      "model_year      0\n",
      "model           0\n",
      "condition       0\n",
      "cylinders       0\n",
      "fuel            0\n",
      "odometer        0\n",
      "transmission    0\n",
      "type            0\n",
      "paint_color     0\n",
      "is_4wd          0\n",
      "date_posted     0\n",
      "days_listed     0\n",
      "manufacturer    0\n",
      "dtype: int64\n"
     ]
    },
    {
     "data": {
      "text/html": [
       "<div>\n",
       "<style scoped>\n",
       "    .dataframe tbody tr th:only-of-type {\n",
       "        vertical-align: middle;\n",
       "    }\n",
       "\n",
       "    .dataframe tbody tr th {\n",
       "        vertical-align: top;\n",
       "    }\n",
       "\n",
       "    .dataframe thead th {\n",
       "        text-align: right;\n",
       "    }\n",
       "</style>\n",
       "<table border=\"1\" class=\"dataframe\">\n",
       "  <thead>\n",
       "    <tr style=\"text-align: right;\">\n",
       "      <th></th>\n",
       "      <th>price</th>\n",
       "      <th>model_year</th>\n",
       "      <th>model</th>\n",
       "      <th>condition</th>\n",
       "      <th>cylinders</th>\n",
       "      <th>fuel</th>\n",
       "      <th>odometer</th>\n",
       "      <th>transmission</th>\n",
       "      <th>type</th>\n",
       "      <th>paint_color</th>\n",
       "      <th>is_4wd</th>\n",
       "      <th>date_posted</th>\n",
       "      <th>days_listed</th>\n",
       "      <th>manufacturer</th>\n",
       "    </tr>\n",
       "  </thead>\n",
       "  <tbody>\n",
       "    <tr>\n",
       "      <th>0</th>\n",
       "      <td>9400</td>\n",
       "      <td>2011.0</td>\n",
       "      <td>bmw x5</td>\n",
       "      <td>good</td>\n",
       "      <td>6</td>\n",
       "      <td>gas</td>\n",
       "      <td>145000</td>\n",
       "      <td>automatic</td>\n",
       "      <td>x5</td>\n",
       "      <td></td>\n",
       "      <td>1</td>\n",
       "      <td>2018-06-23</td>\n",
       "      <td>19</td>\n",
       "      <td>bmw</td>\n",
       "    </tr>\n",
       "    <tr>\n",
       "      <th>1</th>\n",
       "      <td>25500</td>\n",
       "      <td></td>\n",
       "      <td>ford f-150</td>\n",
       "      <td>good</td>\n",
       "      <td>6</td>\n",
       "      <td>gas</td>\n",
       "      <td>88705</td>\n",
       "      <td>automatic</td>\n",
       "      <td>f-150</td>\n",
       "      <td>white</td>\n",
       "      <td>1</td>\n",
       "      <td>2018-10-19</td>\n",
       "      <td>50</td>\n",
       "      <td>ford</td>\n",
       "    </tr>\n",
       "    <tr>\n",
       "      <th>2</th>\n",
       "      <td>5500</td>\n",
       "      <td>2013.0</td>\n",
       "      <td>hyundai sonata</td>\n",
       "      <td>like new</td>\n",
       "      <td>4</td>\n",
       "      <td>gas</td>\n",
       "      <td>110000</td>\n",
       "      <td>automatic</td>\n",
       "      <td>sonata</td>\n",
       "      <td>red</td>\n",
       "      <td>0</td>\n",
       "      <td>2019-02-07</td>\n",
       "      <td>79</td>\n",
       "      <td>hyundai</td>\n",
       "    </tr>\n",
       "    <tr>\n",
       "      <th>3</th>\n",
       "      <td>1500</td>\n",
       "      <td>2003.0</td>\n",
       "      <td>ford f-150</td>\n",
       "      <td>fair</td>\n",
       "      <td>8</td>\n",
       "      <td>gas</td>\n",
       "      <td>115553</td>\n",
       "      <td>automatic</td>\n",
       "      <td>f-150</td>\n",
       "      <td></td>\n",
       "      <td>0</td>\n",
       "      <td>2019-03-22</td>\n",
       "      <td>9</td>\n",
       "      <td>ford</td>\n",
       "    </tr>\n",
       "    <tr>\n",
       "      <th>4</th>\n",
       "      <td>14900</td>\n",
       "      <td>2017.0</td>\n",
       "      <td>chrysler 200</td>\n",
       "      <td>excellent</td>\n",
       "      <td>4</td>\n",
       "      <td>gas</td>\n",
       "      <td>80903</td>\n",
       "      <td>automatic</td>\n",
       "      <td>200</td>\n",
       "      <td>black</td>\n",
       "      <td>0</td>\n",
       "      <td>2019-04-02</td>\n",
       "      <td>28</td>\n",
       "      <td>chrysler</td>\n",
       "    </tr>\n",
       "  </tbody>\n",
       "</table>\n",
       "</div>"
      ],
      "text/plain": [
       "   price model_year           model  condition  cylinders fuel  odometer  \\\n",
       "0   9400     2011.0          bmw x5       good          6  gas    145000   \n",
       "1  25500                 ford f-150       good          6  gas     88705   \n",
       "2   5500     2013.0  hyundai sonata   like new          4  gas    110000   \n",
       "3   1500     2003.0      ford f-150       fair          8  gas    115553   \n",
       "4  14900     2017.0    chrysler 200  excellent          4  gas     80903   \n",
       "\n",
       "  transmission    type paint_color  is_4wd date_posted  days_listed  \\\n",
       "0    automatic      x5                   1  2018-06-23           19   \n",
       "1    automatic   f-150       white       1  2018-10-19           50   \n",
       "2    automatic  sonata         red       0  2019-02-07           79   \n",
       "3    automatic   f-150                   0  2019-03-22            9   \n",
       "4    automatic     200       black       0  2019-04-02           28   \n",
       "\n",
       "  manufacturer  \n",
       "0          bmw  \n",
       "1         ford  \n",
       "2      hyundai  \n",
       "3         ford  \n",
       "4     chrysler  "
      ]
     },
     "metadata": {},
     "output_type": "display_data"
    }
   ],
   "source": [
    "print(vehicles_us.isna().sum())\n",
    "\n",
    "display(vehicles_us.head())"
   ]
  },
  {
   "cell_type": "code",
   "execution_count": 46,
   "metadata": {},
   "outputs": [
    {
     "name": "stdout",
     "output_type": "stream",
     "text": [
      "<class 'pandas.core.frame.DataFrame'>\n",
      "RangeIndex: 51525 entries, 0 to 51524\n",
      "Data columns (total 14 columns):\n",
      " #   Column        Non-Null Count  Dtype         \n",
      "---  ------        --------------  -----         \n",
      " 0   price         51525 non-null  int64         \n",
      " 1   model_year    51525 non-null  object        \n",
      " 2   model         51525 non-null  object        \n",
      " 3   condition     51525 non-null  object        \n",
      " 4   cylinders     51525 non-null  int64         \n",
      " 5   fuel          51525 non-null  object        \n",
      " 6   odometer      51525 non-null  int64         \n",
      " 7   transmission  51525 non-null  object        \n",
      " 8   type          51525 non-null  object        \n",
      " 9   paint_color   51525 non-null  object        \n",
      " 10  is_4wd        51525 non-null  int64         \n",
      " 11  date_posted   51525 non-null  datetime64[ns]\n",
      " 12  days_listed   51525 non-null  int64         \n",
      " 13  manufacturer  51525 non-null  object        \n",
      "dtypes: datetime64[ns](1), int64(5), object(8)\n",
      "memory usage: 5.5+ MB\n"
     ]
    }
   ],
   "source": [
    "vehicles_us.info()"
   ]
  },
  {
   "cell_type": "code",
   "execution_count": 47,
   "metadata": {},
   "outputs": [],
   "source": [
    "vehicles_us['date_posted'] = pd.to_datetime(vehicles_us['date_posted'])"
   ]
  },
  {
   "cell_type": "code",
   "execution_count": 48,
   "metadata": {},
   "outputs": [],
   "source": [
    "vehicles_us['cylinders'] = vehicles_us['cylinders'].astype(float)\n",
    "vehicles_us['odometer'] = vehicles_us['odometer'].astype(float)\n",
    "vehicles_us['is_4wd'] = vehicles_us['is_4wd'].astype(float)"
   ]
  },
  {
   "cell_type": "code",
   "execution_count": 49,
   "metadata": {},
   "outputs": [],
   "source": [
    "vehicles_us['cylinders'] = vehicles_us['cylinders'].astype(int)\n",
    "vehicles_us['odometer'] = vehicles_us['odometer'].astype(int)\n",
    "vehicles_us['is_4wd'] = vehicles_us['is_4wd'].astype(int)"
   ]
  },
  {
   "cell_type": "code",
   "execution_count": 51,
   "metadata": {},
   "outputs": [
    {
     "name": "stdout",
     "output_type": "stream",
     "text": [
      "<class 'pandas.core.frame.DataFrame'>\n",
      "RangeIndex: 51525 entries, 0 to 51524\n",
      "Data columns (total 14 columns):\n",
      " #   Column        Non-Null Count  Dtype         \n",
      "---  ------        --------------  -----         \n",
      " 0   price         51525 non-null  int64         \n",
      " 1   model_year    51525 non-null  object        \n",
      " 2   model         51525 non-null  object        \n",
      " 3   condition     51525 non-null  object        \n",
      " 4   cylinders     51525 non-null  int64         \n",
      " 5   fuel          51525 non-null  object        \n",
      " 6   odometer      51525 non-null  int64         \n",
      " 7   transmission  51525 non-null  object        \n",
      " 8   type          51525 non-null  object        \n",
      " 9   paint_color   51525 non-null  object        \n",
      " 10  is_4wd        51525 non-null  int64         \n",
      " 11  date_posted   51525 non-null  datetime64[ns]\n",
      " 12  days_listed   51525 non-null  int64         \n",
      " 13  manufacturer  51525 non-null  object        \n",
      "dtypes: datetime64[ns](1), int64(5), object(8)\n",
      "memory usage: 5.5+ MB\n"
     ]
    }
   ],
   "source": [
    "vehicles_us.info()"
   ]
  },
  {
   "cell_type": "code",
   "execution_count": 52,
   "metadata": {},
   "outputs": [
    {
     "data": {
      "text/html": [
       "<div>\n",
       "<style scoped>\n",
       "    .dataframe tbody tr th:only-of-type {\n",
       "        vertical-align: middle;\n",
       "    }\n",
       "\n",
       "    .dataframe tbody tr th {\n",
       "        vertical-align: top;\n",
       "    }\n",
       "\n",
       "    .dataframe thead th {\n",
       "        text-align: right;\n",
       "    }\n",
       "</style>\n",
       "<table border=\"1\" class=\"dataframe\">\n",
       "  <thead>\n",
       "    <tr style=\"text-align: right;\">\n",
       "      <th></th>\n",
       "      <th>price</th>\n",
       "      <th>model_year</th>\n",
       "      <th>model</th>\n",
       "      <th>condition</th>\n",
       "      <th>cylinders</th>\n",
       "      <th>fuel</th>\n",
       "      <th>odometer</th>\n",
       "      <th>transmission</th>\n",
       "      <th>type</th>\n",
       "      <th>paint_color</th>\n",
       "      <th>is_4wd</th>\n",
       "      <th>date_posted</th>\n",
       "      <th>days_listed</th>\n",
       "      <th>manufacturer</th>\n",
       "    </tr>\n",
       "  </thead>\n",
       "  <tbody>\n",
       "    <tr>\n",
       "      <th>4544</th>\n",
       "      <td>5150</td>\n",
       "      <td>2008.0</td>\n",
       "      <td>subaru outback</td>\n",
       "      <td>good</td>\n",
       "      <td>6</td>\n",
       "      <td>gas</td>\n",
       "      <td>134250</td>\n",
       "      <td>automatic</td>\n",
       "      <td>outback</td>\n",
       "      <td>blue</td>\n",
       "      <td>1</td>\n",
       "      <td>2018-07-09</td>\n",
       "      <td>7</td>\n",
       "      <td>subaru</td>\n",
       "    </tr>\n",
       "    <tr>\n",
       "      <th>22500</th>\n",
       "      <td>7990</td>\n",
       "      <td>2010.0</td>\n",
       "      <td>ford f-150</td>\n",
       "      <td>excellent</td>\n",
       "      <td>8</td>\n",
       "      <td>gas</td>\n",
       "      <td>163000</td>\n",
       "      <td>automatic</td>\n",
       "      <td>f-150</td>\n",
       "      <td>silver</td>\n",
       "      <td>1</td>\n",
       "      <td>2019-02-22</td>\n",
       "      <td>42</td>\n",
       "      <td>ford</td>\n",
       "    </tr>\n",
       "    <tr>\n",
       "      <th>46785</th>\n",
       "      <td>7896</td>\n",
       "      <td>2014.0</td>\n",
       "      <td>kia soul</td>\n",
       "      <td>good</td>\n",
       "      <td>4</td>\n",
       "      <td>gas</td>\n",
       "      <td>100606</td>\n",
       "      <td>automatic</td>\n",
       "      <td>soul</td>\n",
       "      <td>black</td>\n",
       "      <td>0</td>\n",
       "      <td>2018-10-08</td>\n",
       "      <td>14</td>\n",
       "      <td>kia</td>\n",
       "    </tr>\n",
       "    <tr>\n",
       "      <th>35537</th>\n",
       "      <td>10300</td>\n",
       "      <td>2012.0</td>\n",
       "      <td>ford mustang</td>\n",
       "      <td>excellent</td>\n",
       "      <td>6</td>\n",
       "      <td>gas</td>\n",
       "      <td>64000</td>\n",
       "      <td>automatic</td>\n",
       "      <td>mustang</td>\n",
       "      <td>white</td>\n",
       "      <td>0</td>\n",
       "      <td>2019-03-22</td>\n",
       "      <td>49</td>\n",
       "      <td>ford</td>\n",
       "    </tr>\n",
       "    <tr>\n",
       "      <th>2777</th>\n",
       "      <td>13990</td>\n",
       "      <td>2013.0</td>\n",
       "      <td>ford explorer</td>\n",
       "      <td>excellent</td>\n",
       "      <td>6</td>\n",
       "      <td>gas</td>\n",
       "      <td>59042</td>\n",
       "      <td>automatic</td>\n",
       "      <td>explorer</td>\n",
       "      <td>white</td>\n",
       "      <td>1</td>\n",
       "      <td>2019-01-08</td>\n",
       "      <td>11</td>\n",
       "      <td>ford</td>\n",
       "    </tr>\n",
       "  </tbody>\n",
       "</table>\n",
       "</div>"
      ],
      "text/plain": [
       "       price model_year           model  condition  cylinders fuel  odometer  \\\n",
       "4544    5150     2008.0  subaru outback       good          6  gas    134250   \n",
       "22500   7990     2010.0      ford f-150  excellent          8  gas    163000   \n",
       "46785   7896     2014.0        kia soul       good          4  gas    100606   \n",
       "35537  10300     2012.0    ford mustang  excellent          6  gas     64000   \n",
       "2777   13990     2013.0   ford explorer  excellent          6  gas     59042   \n",
       "\n",
       "      transmission      type paint_color  is_4wd date_posted  days_listed  \\\n",
       "4544     automatic   outback        blue       1  2018-07-09            7   \n",
       "22500    automatic     f-150      silver       1  2019-02-22           42   \n",
       "46785    automatic      soul       black       0  2018-10-08           14   \n",
       "35537    automatic   mustang       white       0  2019-03-22           49   \n",
       "2777     automatic  explorer       white       1  2019-01-08           11   \n",
       "\n",
       "      manufacturer  \n",
       "4544        subaru  \n",
       "22500         ford  \n",
       "46785          kia  \n",
       "35537         ford  \n",
       "2777          ford  "
      ]
     },
     "metadata": {},
     "output_type": "display_data"
    }
   ],
   "source": [
    "display(vehicles_us.sample(5))"
   ]
  },
  {
   "cell_type": "code",
   "execution_count": 53,
   "metadata": {},
   "outputs": [
    {
     "data": {
      "text/html": [
       "<div>\n",
       "<style scoped>\n",
       "    .dataframe tbody tr th:only-of-type {\n",
       "        vertical-align: middle;\n",
       "    }\n",
       "\n",
       "    .dataframe tbody tr th {\n",
       "        vertical-align: top;\n",
       "    }\n",
       "\n",
       "    .dataframe thead th {\n",
       "        text-align: right;\n",
       "    }\n",
       "</style>\n",
       "<table border=\"1\" class=\"dataframe\">\n",
       "  <thead>\n",
       "    <tr style=\"text-align: right;\">\n",
       "      <th></th>\n",
       "      <th>price</th>\n",
       "      <th>model_year</th>\n",
       "      <th>model</th>\n",
       "      <th>condition</th>\n",
       "      <th>cylinders</th>\n",
       "      <th>fuel</th>\n",
       "      <th>odometer</th>\n",
       "      <th>transmission</th>\n",
       "      <th>type</th>\n",
       "      <th>paint_color</th>\n",
       "      <th>is_4wd</th>\n",
       "      <th>date_posted</th>\n",
       "      <th>days_listed</th>\n",
       "      <th>manufacturer</th>\n",
       "    </tr>\n",
       "  </thead>\n",
       "  <tbody>\n",
       "    <tr>\n",
       "      <th>0</th>\n",
       "      <td>9400</td>\n",
       "      <td>2011.0</td>\n",
       "      <td>bmw x5</td>\n",
       "      <td>good</td>\n",
       "      <td>6</td>\n",
       "      <td>gas</td>\n",
       "      <td>145000</td>\n",
       "      <td>automatic</td>\n",
       "      <td>x5</td>\n",
       "      <td></td>\n",
       "      <td>1</td>\n",
       "      <td>2018-06-23</td>\n",
       "      <td>19</td>\n",
       "      <td>bmw</td>\n",
       "    </tr>\n",
       "    <tr>\n",
       "      <th>1</th>\n",
       "      <td>25500</td>\n",
       "      <td></td>\n",
       "      <td>ford f-150</td>\n",
       "      <td>good</td>\n",
       "      <td>6</td>\n",
       "      <td>gas</td>\n",
       "      <td>88705</td>\n",
       "      <td>automatic</td>\n",
       "      <td>f-150</td>\n",
       "      <td>white</td>\n",
       "      <td>1</td>\n",
       "      <td>2018-10-19</td>\n",
       "      <td>50</td>\n",
       "      <td>ford</td>\n",
       "    </tr>\n",
       "    <tr>\n",
       "      <th>2</th>\n",
       "      <td>5500</td>\n",
       "      <td>2013.0</td>\n",
       "      <td>hyundai sonata</td>\n",
       "      <td>like new</td>\n",
       "      <td>4</td>\n",
       "      <td>gas</td>\n",
       "      <td>110000</td>\n",
       "      <td>automatic</td>\n",
       "      <td>sonata</td>\n",
       "      <td>red</td>\n",
       "      <td>0</td>\n",
       "      <td>2019-02-07</td>\n",
       "      <td>79</td>\n",
       "      <td>hyundai</td>\n",
       "    </tr>\n",
       "    <tr>\n",
       "      <th>3</th>\n",
       "      <td>1500</td>\n",
       "      <td>2003.0</td>\n",
       "      <td>ford f-150</td>\n",
       "      <td>fair</td>\n",
       "      <td>8</td>\n",
       "      <td>gas</td>\n",
       "      <td>115553</td>\n",
       "      <td>automatic</td>\n",
       "      <td>f-150</td>\n",
       "      <td></td>\n",
       "      <td>0</td>\n",
       "      <td>2019-03-22</td>\n",
       "      <td>9</td>\n",
       "      <td>ford</td>\n",
       "    </tr>\n",
       "    <tr>\n",
       "      <th>4</th>\n",
       "      <td>14900</td>\n",
       "      <td>2017.0</td>\n",
       "      <td>chrysler 200</td>\n",
       "      <td>excellent</td>\n",
       "      <td>4</td>\n",
       "      <td>gas</td>\n",
       "      <td>80903</td>\n",
       "      <td>automatic</td>\n",
       "      <td>200</td>\n",
       "      <td>black</td>\n",
       "      <td>0</td>\n",
       "      <td>2019-04-02</td>\n",
       "      <td>28</td>\n",
       "      <td>chrysler</td>\n",
       "    </tr>\n",
       "    <tr>\n",
       "      <th>...</th>\n",
       "      <td>...</td>\n",
       "      <td>...</td>\n",
       "      <td>...</td>\n",
       "      <td>...</td>\n",
       "      <td>...</td>\n",
       "      <td>...</td>\n",
       "      <td>...</td>\n",
       "      <td>...</td>\n",
       "      <td>...</td>\n",
       "      <td>...</td>\n",
       "      <td>...</td>\n",
       "      <td>...</td>\n",
       "      <td>...</td>\n",
       "      <td>...</td>\n",
       "    </tr>\n",
       "    <tr>\n",
       "      <th>51520</th>\n",
       "      <td>9249</td>\n",
       "      <td>2013.0</td>\n",
       "      <td>nissan maxima</td>\n",
       "      <td>like new</td>\n",
       "      <td>6</td>\n",
       "      <td>gas</td>\n",
       "      <td>88136</td>\n",
       "      <td>automatic</td>\n",
       "      <td>maxima</td>\n",
       "      <td>black</td>\n",
       "      <td>0</td>\n",
       "      <td>2018-10-03</td>\n",
       "      <td>37</td>\n",
       "      <td>nissan</td>\n",
       "    </tr>\n",
       "    <tr>\n",
       "      <th>51521</th>\n",
       "      <td>2700</td>\n",
       "      <td>2002.0</td>\n",
       "      <td>honda civic</td>\n",
       "      <td>salvage</td>\n",
       "      <td>4</td>\n",
       "      <td>gas</td>\n",
       "      <td>181500</td>\n",
       "      <td>automatic</td>\n",
       "      <td>civic</td>\n",
       "      <td>white</td>\n",
       "      <td>0</td>\n",
       "      <td>2018-11-14</td>\n",
       "      <td>22</td>\n",
       "      <td>honda</td>\n",
       "    </tr>\n",
       "    <tr>\n",
       "      <th>51522</th>\n",
       "      <td>3950</td>\n",
       "      <td>2009.0</td>\n",
       "      <td>hyundai sonata</td>\n",
       "      <td>excellent</td>\n",
       "      <td>4</td>\n",
       "      <td>gas</td>\n",
       "      <td>128000</td>\n",
       "      <td>automatic</td>\n",
       "      <td>sonata</td>\n",
       "      <td>blue</td>\n",
       "      <td>0</td>\n",
       "      <td>2018-11-15</td>\n",
       "      <td>32</td>\n",
       "      <td>hyundai</td>\n",
       "    </tr>\n",
       "    <tr>\n",
       "      <th>51523</th>\n",
       "      <td>7455</td>\n",
       "      <td>2013.0</td>\n",
       "      <td>toyota corolla</td>\n",
       "      <td>good</td>\n",
       "      <td>4</td>\n",
       "      <td>gas</td>\n",
       "      <td>139573</td>\n",
       "      <td>automatic</td>\n",
       "      <td>corolla</td>\n",
       "      <td>black</td>\n",
       "      <td>0</td>\n",
       "      <td>2018-07-02</td>\n",
       "      <td>71</td>\n",
       "      <td>toyota</td>\n",
       "    </tr>\n",
       "    <tr>\n",
       "      <th>51524</th>\n",
       "      <td>6300</td>\n",
       "      <td>2014.0</td>\n",
       "      <td>nissan altima</td>\n",
       "      <td>good</td>\n",
       "      <td>4</td>\n",
       "      <td>gas</td>\n",
       "      <td>115553</td>\n",
       "      <td>automatic</td>\n",
       "      <td>altima</td>\n",
       "      <td></td>\n",
       "      <td>0</td>\n",
       "      <td>2018-06-05</td>\n",
       "      <td>10</td>\n",
       "      <td>nissan</td>\n",
       "    </tr>\n",
       "  </tbody>\n",
       "</table>\n",
       "<p>51525 rows × 14 columns</p>\n",
       "</div>"
      ],
      "text/plain": [
       "       price model_year           model  condition  cylinders fuel  odometer  \\\n",
       "0       9400     2011.0          bmw x5       good          6  gas    145000   \n",
       "1      25500                 ford f-150       good          6  gas     88705   \n",
       "2       5500     2013.0  hyundai sonata   like new          4  gas    110000   \n",
       "3       1500     2003.0      ford f-150       fair          8  gas    115553   \n",
       "4      14900     2017.0    chrysler 200  excellent          4  gas     80903   \n",
       "...      ...        ...             ...        ...        ...  ...       ...   \n",
       "51520   9249     2013.0   nissan maxima   like new          6  gas     88136   \n",
       "51521   2700     2002.0     honda civic    salvage          4  gas    181500   \n",
       "51522   3950     2009.0  hyundai sonata  excellent          4  gas    128000   \n",
       "51523   7455     2013.0  toyota corolla       good          4  gas    139573   \n",
       "51524   6300     2014.0   nissan altima       good          4  gas    115553   \n",
       "\n",
       "      transmission     type paint_color  is_4wd date_posted  days_listed  \\\n",
       "0        automatic       x5                   1  2018-06-23           19   \n",
       "1        automatic    f-150       white       1  2018-10-19           50   \n",
       "2        automatic   sonata         red       0  2019-02-07           79   \n",
       "3        automatic    f-150                   0  2019-03-22            9   \n",
       "4        automatic      200       black       0  2019-04-02           28   \n",
       "...            ...      ...         ...     ...         ...          ...   \n",
       "51520    automatic   maxima       black       0  2018-10-03           37   \n",
       "51521    automatic    civic       white       0  2018-11-14           22   \n",
       "51522    automatic   sonata        blue       0  2018-11-15           32   \n",
       "51523    automatic  corolla       black       0  2018-07-02           71   \n",
       "51524    automatic   altima                   0  2018-06-05           10   \n",
       "\n",
       "      manufacturer  \n",
       "0              bmw  \n",
       "1             ford  \n",
       "2          hyundai  \n",
       "3             ford  \n",
       "4         chrysler  \n",
       "...            ...  \n",
       "51520       nissan  \n",
       "51521        honda  \n",
       "51522      hyundai  \n",
       "51523       toyota  \n",
       "51524       nissan  \n",
       "\n",
       "[51525 rows x 14 columns]"
      ]
     },
     "metadata": {},
     "output_type": "display_data"
    }
   ],
   "source": [
    "vehicles_us['manufacturer'] = vehicles_us['model'].str.split().str[0]\n",
    "display(vehicles_us)"
   ]
  },
  {
   "cell_type": "code",
   "execution_count": 54,
   "metadata": {},
   "outputs": [
    {
     "data": {
      "image/png": "[encoded data removed]",
      "text/plain": [
       "<Figure size 1000x600 with 1 Axes>"
      ]
     },
     "metadata": {},
     "output_type": "display_data"
    }
   ],
   "source": [
    "plt.figure(figsize=(10, 6))\n",
    "sns.histplot(data=vehicles_us, x='manufacturer', y='price')\n",
    "plt.title('Price distribution of 10 most common models')\n",
    "plt.xlabel('Model')\n",
    "plt.ylabel('Price')\n",
    "plt.xticks(rotation=50)\n",
    "plt.show()"
   ]
  },
  {
   "cell_type": "code",
   "execution_count": 71,
   "metadata": {},
   "outputs": [
    {
     "data": {
      "image/png": "[encoded data removed]",
      "text/plain": [
       "<Figure size 800x600 with 1 Axes>"
      ]
     },
     "metadata": {},
     "output_type": "display_data"
    }
   ],
   "source": [
    "# Compare the mileage of each cars. Plot a histogram to visualize it. \n",
    "plt.figure(figsize=(8, 6))\n",
    "sns.histplot(data=vehicles_us, x='odometer', hue='manufacturer', bins=20)\n",
    "plt.title('Mileage of each manufacturer')\n",
    "plt.xlabel('Mileage')\n",
    "plt.ylabel('Manufacturer')\n",
    "plt.xticks(rotation=50)\n",
    "plt.show()\n"
   ]
  },
  {
   "cell_type": "code",
   "execution_count": 72,
   "metadata": {},
   "outputs": [
    {
     "data": {
      "image/png": "[encoded data removed]",
      "text/plain": [
       "<Figure size 1000x600 with 1 Axes>"
      ]
     },
     "metadata": {},
     "output_type": "display_data"
    }
   ],
   "source": [
    "# Compare the vehicle age vs. Mileage. Plot a scatterplot to visualize it.\n",
    "plt.figure(figsize=(10, 6))\n",
    "sns.scatterplot(data=vehicles_us, x='date_posted', y='odometer', hue='manufacturer')\n",
    "plt.title('Mileage distribution of each model')\n",
    "plt.xlabel('Model')\n",
    "plt.ylabel('Mileage')\n",
    "plt.xticks(rotation=90)\n",
    "plt.show()"
   ]
  },
  {
   "cell_type": "code",
   "execution_count": 57,
   "metadata": {},
   "outputs": [
    {
     "name": "stdout",
     "output_type": "stream",
     "text": [
      "            model manufacturer    type\n",
      "0          bmw x5          bmw      x5\n",
      "1      ford f-150         ford   f-150\n",
      "2  hyundai sonata      hyundai  sonata\n",
      "3      ford f-150         ford   f-150\n",
      "4    chrysler 200     chrysler     200\n"
     ]
    }
   ],
   "source": [
    "vehicles_us['manufacturer'] = vehicles_us['model'].str.split().str[0]\n",
    "\n",
    "vehicles_us['type'] = vehicles_us['model'].str.split().str[1]\n",
    "print(vehicles_us[['model','manufacturer','type']].head())"
   ]
  },
  {
   "cell_type": "code",
   "execution_count": 58,
   "metadata": {},
   "outputs": [],
   "source": [
    "manufacturer_type_counts = vehicles_us.groupby(['manufacturer', 'type']).size().reset_index(name='count')"
   ]
  },
  {
   "cell_type": "code",
   "execution_count": 75,
   "metadata": {},
   "outputs": [
    {
     "data": {
      "image/png": "[encoded data removed]",
      "text/plain": [
       "<Figure size 1000x900 with 1 Axes>"
      ]
     },
     "metadata": {},
     "output_type": "display_data"
    }
   ],
   "source": [
    "# Compare the vehicles types by manufacturer. Plot a histogram to visualize it. \n",
    "plt.figure(figsize=(10, 9))\n",
    "sns.histplot(data=manufacturer_type_counts, x='manufacturer', y='count',hue='type')\n",
    "plt.title('Vehicle types by manufacturer')\n",
    "plt.xlabel('Model_type')\n",
    "plt.ylabel('Frequency')\n",
    "plt.xticks(rotation=90)\n",
    "plt.show()"
   ]
  },
  {
   "cell_type": "code",
   "execution_count": 60,
   "metadata": {},
   "outputs": [
    {
     "data": {
      "text/html": [
       "<div>\n",
       "<style scoped>\n",
       "    .dataframe tbody tr th:only-of-type {\n",
       "        vertical-align: middle;\n",
       "    }\n",
       "\n",
       "    .dataframe tbody tr th {\n",
       "        vertical-align: top;\n",
       "    }\n",
       "\n",
       "    .dataframe thead th {\n",
       "        text-align: right;\n",
       "    }\n",
       "</style>\n",
       "<table border=\"1\" class=\"dataframe\">\n",
       "  <thead>\n",
       "    <tr style=\"text-align: right;\">\n",
       "      <th></th>\n",
       "      <th>condition</th>\n",
       "      <th>model_year</th>\n",
       "    </tr>\n",
       "  </thead>\n",
       "  <tbody>\n",
       "    <tr>\n",
       "      <th>0</th>\n",
       "      <td>good</td>\n",
       "      <td>2011.0</td>\n",
       "    </tr>\n",
       "    <tr>\n",
       "      <th>1</th>\n",
       "      <td>good</td>\n",
       "      <td>NaN</td>\n",
       "    </tr>\n",
       "    <tr>\n",
       "      <th>2</th>\n",
       "      <td>like new</td>\n",
       "      <td>2013.0</td>\n",
       "    </tr>\n",
       "    <tr>\n",
       "      <th>3</th>\n",
       "      <td>fair</td>\n",
       "      <td>2003.0</td>\n",
       "    </tr>\n",
       "    <tr>\n",
       "      <th>4</th>\n",
       "      <td>excellent</td>\n",
       "      <td>2017.0</td>\n",
       "    </tr>\n",
       "  </tbody>\n",
       "</table>\n",
       "</div>"
      ],
      "text/plain": [
       "   condition  model_year\n",
       "0       good      2011.0\n",
       "1       good         NaN\n",
       "2   like new      2013.0\n",
       "3       fair      2003.0\n",
       "4  excellent      2017.0"
      ]
     },
     "metadata": {},
     "output_type": "display_data"
    }
   ],
   "source": [
    "vehicles_us['model_year'] = pd.to_numeric(vehicles_us['model_year'], errors='coerce')\n",
    "\n",
    "display(vehicles_us[['condition','model_year']].head())"
   ]
  },
  {
   "cell_type": "code",
   "execution_count": 76,
   "metadata": {},
   "outputs": [
    {
     "data": {
      "image/png": "[encoded data removed]",
      "text/plain": [
       "<Figure size 1000x600 with 1 Axes>"
      ]
     },
     "metadata": {},
     "output_type": "display_data"
    }
   ],
   "source": [
    "# Compare the condition of the car vs. year of the model. Plot a histogram to visualize it. \n",
    "plt.figure(figsize=(10, 6))\n",
    "sns.histplot(data=vehicles_us, x='model_year',hue='condition', bins=40)\n",
    "plt.title('The condition of the car by the model year')\n",
    "plt.xlabel('Model Year')\n",
    "plt.ylabel('Frequency')\n",
    "plt.xticks(rotation=90)\n",
    "plt.show()"
   ]
  },
  {
   "cell_type": "code",
   "execution_count": 80,
   "metadata": {},
   "outputs": [
    {
     "data": {
      "image/png": "[encoded data removed]",
      "text/plain": [
       "<Figure size 900x600 with 1 Axes>"
      ]
     },
     "metadata": {},
     "output_type": "display_data"
    }
   ],
   "source": [
    "# Compare price distribution between manufacturers. \n",
    "plt.figure(figsize=(9, 6))\n",
    "sns.histplot(data=vehicles_us, x='price', hue='manufacturer', bins=30)\n",
    "plt.title('Price distribution between manufacturers')\n",
    "plt.xlabel('Price')\n",
    "plt.ylabel('Count')\n",
    "plt.xticks(rotation=90)\n",
    "plt.show()"
   ]
  },
  {
   "cell_type": "code",
   "execution_count": null,
   "metadata": {},
   "outputs": [],
   "source": []
  }
 ],
 "metadata": {
  "ExecuteTimeLog": [
   {
    "duration": 2580,
    "start_time": "2024-09-30T09:21:24.459Z"
   },
   {
    "duration": 5,
    "start_time": "2024-09-30T09:21:41.791Z"
   },
   {
    "duration": 591,
    "start_time": "2024-09-30T09:22:25.758Z"
   },
   {
    "duration": 85,
    "start_time": "2024-09-30T09:23:14.805Z"
   },
   {
    "duration": 13,
    "start_time": "2024-09-30T09:23:35.358Z"
   },
   {
    "duration": 14,
    "start_time": "2024-09-30T09:27:04.415Z"
   },
   {
    "duration": 54,
    "start_time": "2024-09-30T09:29:24.748Z"
   },
   {
    "duration": 7,
    "start_time": "2024-09-30T09:31:42.265Z"
   },
   {
    "duration": 29,
    "start_time": "2024-09-30T09:33:49.394Z"
   },
   {
    "duration": 18,
    "start_time": "2024-09-30T09:34:23.055Z"
   },
   {
    "duration": 2690,
    "start_time": "2024-10-01T16:30:16.778Z"
   },
   {
    "duration": 850,
    "start_time": "2024-10-01T16:30:29.575Z"
   },
   {
    "duration": 95,
    "start_time": "2024-10-01T16:30:30.427Z"
   },
   {
    "duration": 13,
    "start_time": "2024-10-01T16:30:30.524Z"
   },
   {
    "duration": 14,
    "start_time": "2024-10-01T16:30:30.539Z"
   },
   {
    "duration": 54,
    "start_time": "2024-10-01T16:30:30.555Z"
   },
   {
    "duration": 28,
    "start_time": "2024-10-01T16:30:30.611Z"
   },
   {
    "duration": 31,
    "start_time": "2024-10-01T16:30:30.641Z"
   },
   {
    "duration": 19,
    "start_time": "2024-10-01T16:30:30.674Z"
   },
   {
    "duration": 5,
    "start_time": "2024-10-01T17:21:36.520Z"
   },
   {
    "duration": 4,
    "start_time": "2024-10-01T17:21:40.359Z"
   },
   {
    "duration": 12,
    "start_time": "2024-10-01T17:22:01.213Z"
   },
   {
    "duration": 15,
    "start_time": "2024-10-01T17:23:10.707Z"
   },
   {
    "duration": 16,
    "start_time": "2024-10-01T17:23:12.636Z"
   },
   {
    "duration": 13,
    "start_time": "2024-10-01T17:23:24.308Z"
   },
   {
    "duration": 11,
    "start_time": "2024-10-01T17:24:32.711Z"
   },
   {
    "duration": 11,
    "start_time": "2024-10-01T17:30:13.159Z"
   },
   {
    "duration": 12,
    "start_time": "2024-10-01T17:33:06.853Z"
   },
   {
    "duration": 8,
    "start_time": "2024-10-01T17:33:30.048Z"
   },
   {
    "duration": 12,
    "start_time": "2024-10-01T17:33:36.935Z"
   },
   {
    "duration": 287,
    "start_time": "2024-10-01T17:35:07.284Z"
   },
   {
    "duration": 13,
    "start_time": "2024-10-01T17:35:11.411Z"
   },
   {
    "duration": 12,
    "start_time": "2024-10-01T17:35:53.691Z"
   },
   {
    "duration": 11,
    "start_time": "2024-10-01T17:37:51.535Z"
   },
   {
    "duration": 15,
    "start_time": "2024-10-01T17:40:50.937Z"
   },
   {
    "duration": 26,
    "start_time": "2024-10-01T17:47:48.665Z"
   },
   {
    "duration": 36,
    "start_time": "2024-10-01T17:48:49.727Z"
   },
   {
    "duration": 24,
    "start_time": "2024-10-01T17:49:33.633Z"
   },
   {
    "duration": 24,
    "start_time": "2024-10-01T17:49:39.066Z"
   },
   {
    "duration": 19,
    "start_time": "2024-10-01T17:49:47.330Z"
   },
   {
    "duration": 13,
    "start_time": "2024-10-01T17:50:01.716Z"
   },
   {
    "duration": 254,
    "start_time": "2024-10-01T17:50:18.769Z"
   },
   {
    "duration": 29,
    "start_time": "2024-10-01T17:50:23.602Z"
   },
   {
    "duration": 13,
    "start_time": "2024-10-01T17:50:28.105Z"
   },
   {
    "duration": 28,
    "start_time": "2024-10-01T17:50:30.639Z"
   },
   {
    "duration": 940,
    "start_time": "2024-10-01T17:50:57.042Z"
   },
   {
    "duration": 93,
    "start_time": "2024-10-01T17:50:57.984Z"
   },
   {
    "duration": 15,
    "start_time": "2024-10-01T17:50:58.079Z"
   },
   {
    "duration": 74,
    "start_time": "2024-10-01T17:50:58.096Z"
   },
   {
    "duration": 8,
    "start_time": "2024-10-01T17:50:58.171Z"
   },
   {
    "duration": 30,
    "start_time": "2024-10-01T17:50:58.181Z"
   },
   {
    "duration": 40,
    "start_time": "2024-10-01T17:50:58.213Z"
   },
   {
    "duration": 15,
    "start_time": "2024-10-01T17:50:58.255Z"
   },
   {
    "duration": 12,
    "start_time": "2024-10-01T17:50:58.272Z"
   },
   {
    "duration": 14,
    "start_time": "2024-10-01T17:50:58.286Z"
   },
   {
    "duration": 50,
    "start_time": "2024-10-01T17:50:58.302Z"
   },
   {
    "duration": 42,
    "start_time": "2024-10-01T17:50:58.354Z"
   },
   {
    "duration": 12,
    "start_time": "2024-10-01T17:50:58.398Z"
   },
   {
    "duration": 20,
    "start_time": "2024-10-01T17:50:58.412Z"
   },
   {
    "duration": 13,
    "start_time": "2024-10-01T17:54:08.997Z"
   },
   {
    "duration": 13,
    "start_time": "2024-10-01T17:54:24.988Z"
   },
   {
    "duration": 11,
    "start_time": "2024-10-01T17:54:45.015Z"
   },
   {
    "duration": 520,
    "start_time": "2024-10-01T17:54:48.245Z"
   },
   {
    "duration": 9,
    "start_time": "2024-10-01T17:54:57.192Z"
   },
   {
    "duration": 30,
    "start_time": "2024-10-01T17:55:04.003Z"
   },
   {
    "duration": 60,
    "start_time": "2024-10-01T17:55:12.292Z"
   },
   {
    "duration": 12,
    "start_time": "2024-10-01T17:55:13.502Z"
   },
   {
    "duration": 53,
    "start_time": "2024-10-01T17:55:16.829Z"
   },
   {
    "duration": 9,
    "start_time": "2024-10-01T17:55:20.250Z"
   },
   {
    "duration": 28,
    "start_time": "2024-10-01T17:55:22.251Z"
   },
   {
    "duration": 17,
    "start_time": "2024-10-01T17:55:24.608Z"
   },
   {
    "duration": 14,
    "start_time": "2024-10-01T17:55:26.997Z"
   },
   {
    "duration": 13,
    "start_time": "2024-10-01T17:55:29.525Z"
   },
   {
    "duration": 14,
    "start_time": "2024-10-01T17:55:31.482Z"
   },
   {
    "duration": 14,
    "start_time": "2024-10-01T17:55:33.257Z"
   },
   {
    "duration": 14,
    "start_time": "2024-10-01T17:55:35.170Z"
   },
   {
    "duration": 19,
    "start_time": "2024-10-01T17:55:36.677Z"
   },
   {
    "duration": 13,
    "start_time": "2024-10-01T17:55:38.528Z"
   },
   {
    "duration": 13,
    "start_time": "2024-10-01T17:55:40.720Z"
   },
   {
    "duration": 13,
    "start_time": "2024-10-01T17:56:17.602Z"
   },
   {
    "duration": 13,
    "start_time": "2024-10-01T17:56:19.440Z"
   },
   {
    "duration": 20,
    "start_time": "2024-10-01T17:57:12.760Z"
   },
   {
    "duration": 14,
    "start_time": "2024-10-01T17:57:22.849Z"
   },
   {
    "duration": 18,
    "start_time": "2024-10-01T17:57:37.199Z"
   },
   {
    "duration": 14,
    "start_time": "2024-10-01T17:57:38.115Z"
   },
   {
    "duration": 13,
    "start_time": "2024-10-01T17:57:39.396Z"
   },
   {
    "duration": 33,
    "start_time": "2024-10-01T17:57:50.601Z"
   },
   {
    "duration": 8,
    "start_time": "2024-10-01T17:57:56.411Z"
   },
   {
    "duration": 9,
    "start_time": "2024-10-01T17:58:01.994Z"
   },
   {
    "duration": 54,
    "start_time": "2024-10-01T17:58:33.996Z"
   },
   {
    "duration": 11,
    "start_time": "2024-10-01T17:58:34.880Z"
   },
   {
    "duration": 50,
    "start_time": "2024-10-01T17:58:37.487Z"
   },
   {
    "duration": 8,
    "start_time": "2024-10-01T17:58:41.497Z"
   },
   {
    "duration": 28,
    "start_time": "2024-10-01T17:58:43.369Z"
   },
   {
    "duration": 19,
    "start_time": "2024-10-01T17:58:45.167Z"
   },
   {
    "duration": 16,
    "start_time": "2024-10-01T17:58:47.776Z"
   },
   {
    "duration": 13,
    "start_time": "2024-10-01T17:58:49.630Z"
   },
   {
    "duration": 19,
    "start_time": "2024-10-01T17:58:51.367Z"
   },
   {
    "duration": 13,
    "start_time": "2024-10-01T17:58:52.714Z"
   },
   {
    "duration": 13,
    "start_time": "2024-10-01T17:58:54.019Z"
   },
   {
    "duration": 12,
    "start_time": "2024-10-01T17:58:55.457Z"
   },
   {
    "duration": 17,
    "start_time": "2024-10-01T17:58:56.542Z"
   },
   {
    "duration": 11,
    "start_time": "2024-10-01T17:58:59.069Z"
   },
   {
    "duration": 12,
    "start_time": "2024-10-01T17:59:00.689Z"
   },
   {
    "duration": 22,
    "start_time": "2024-10-01T18:01:48.232Z"
   },
   {
    "duration": 15,
    "start_time": "2024-10-01T18:02:04.561Z"
   },
   {
    "duration": 14,
    "start_time": "2024-10-01T18:02:05.427Z"
   },
   {
    "duration": 13,
    "start_time": "2024-10-01T18:02:06.106Z"
   },
   {
    "duration": 15,
    "start_time": "2024-10-01T18:02:06.841Z"
   },
   {
    "duration": 13,
    "start_time": "2024-10-01T18:02:15.501Z"
   },
   {
    "duration": 8,
    "start_time": "2024-10-01T18:06:18.609Z"
   },
   {
    "duration": 20,
    "start_time": "2024-10-01T18:06:33.961Z"
   },
   {
    "duration": 31,
    "start_time": "2024-10-01T18:08:45.907Z"
   },
   {
    "duration": 6,
    "start_time": "2024-10-01T18:10:37.918Z"
   },
   {
    "duration": 7,
    "start_time": "2024-10-01T18:10:39.808Z"
   },
   {
    "duration": 10,
    "start_time": "2024-10-01T18:10:41.052Z"
   },
   {
    "duration": 7,
    "start_time": "2024-10-01T18:10:43.324Z"
   },
   {
    "duration": 6,
    "start_time": "2024-10-01T18:10:44.782Z"
   },
   {
    "duration": 5,
    "start_time": "2024-10-01T18:10:46.287Z"
   },
   {
    "duration": 6,
    "start_time": "2024-10-01T18:10:47.642Z"
   },
   {
    "duration": 5,
    "start_time": "2024-10-01T18:10:52.211Z"
   },
   {
    "duration": 28,
    "start_time": "2024-10-01T18:11:09.610Z"
   },
   {
    "duration": 5,
    "start_time": "2024-10-01T18:11:13.758Z"
   },
   {
    "duration": 5,
    "start_time": "2024-10-01T18:11:19.545Z"
   },
   {
    "duration": 21,
    "start_time": "2024-10-01T18:11:32.266Z"
   },
   {
    "duration": 43,
    "start_time": "2024-10-01T18:27:43.082Z"
   },
   {
    "duration": 25,
    "start_time": "2024-10-01T18:28:34.637Z"
   },
   {
    "duration": 11,
    "start_time": "2024-10-01T18:31:37.328Z"
   },
   {
    "duration": 22,
    "start_time": "2024-10-01T18:31:40.740Z"
   },
   {
    "duration": 25,
    "start_time": "2024-10-01T18:33:32.304Z"
   },
   {
    "duration": 2493,
    "start_time": "2024-10-02T15:29:12.328Z"
   },
   {
    "duration": 98,
    "start_time": "2024-10-02T15:29:14.823Z"
   },
   {
    "duration": 12,
    "start_time": "2024-10-02T15:29:14.923Z"
   },
   {
    "duration": 61,
    "start_time": "2024-10-02T15:29:14.938Z"
   },
   {
    "duration": 8,
    "start_time": "2024-10-02T15:29:15.000Z"
   },
   {
    "duration": 28,
    "start_time": "2024-10-02T15:29:15.010Z"
   },
   {
    "duration": 35,
    "start_time": "2024-10-02T15:29:15.040Z"
   },
   {
    "duration": 13,
    "start_time": "2024-10-02T15:29:15.077Z"
   },
   {
    "duration": 3,
    "start_time": "2024-10-02T15:29:15.092Z"
   },
   {
    "duration": 7,
    "start_time": "2024-10-02T15:29:15.098Z"
   },
   {
    "duration": 12,
    "start_time": "2024-10-02T15:29:15.107Z"
   },
   {
    "duration": 4,
    "start_time": "2024-10-02T15:29:15.121Z"
   },
   {
    "duration": 5,
    "start_time": "2024-10-02T15:29:15.127Z"
   },
   {
    "duration": 43,
    "start_time": "2024-10-02T15:29:15.133Z"
   },
   {
    "duration": 11,
    "start_time": "2024-10-02T15:29:15.178Z"
   },
   {
    "duration": 5,
    "start_time": "2024-10-02T15:29:15.191Z"
   },
   {
    "duration": 12,
    "start_time": "2024-10-02T15:29:15.198Z"
   },
   {
    "duration": 7,
    "start_time": "2024-10-02T15:29:15.212Z"
   },
   {
    "duration": 63,
    "start_time": "2024-10-02T15:29:15.221Z"
   },
   {
    "duration": 23,
    "start_time": "2024-10-02T15:29:15.286Z"
   },
   {
    "duration": 11,
    "start_time": "2024-10-02T15:29:15.311Z"
   },
   {
    "duration": 230,
    "start_time": "2024-10-02T15:29:15.324Z"
   },
   {
    "duration": 0,
    "start_time": "2024-10-02T15:29:15.557Z"
   },
   {
    "duration": 616,
    "start_time": "2024-10-02T15:35:10.816Z"
   },
   {
    "duration": 47,
    "start_time": "2024-10-02T15:35:35.870Z"
   },
   {
    "duration": 6,
    "start_time": "2024-10-02T15:38:32.282Z"
   },
   {
    "duration": 50,
    "start_time": "2024-10-02T15:38:49.333Z"
   },
   {
    "duration": 6,
    "start_time": "2024-10-02T15:39:12.929Z"
   },
   {
    "duration": 25,
    "start_time": "2024-10-02T15:39:46.283Z"
   },
   {
    "duration": 22,
    "start_time": "2024-10-02T15:39:48.499Z"
   },
   {
    "duration": 10,
    "start_time": "2024-10-02T15:39:50.416Z"
   },
   {
    "duration": 51,
    "start_time": "2024-10-02T15:39:51.942Z"
   },
   {
    "duration": 57,
    "start_time": "2024-10-02T15:39:56.538Z"
   },
   {
    "duration": 7,
    "start_time": "2024-10-02T15:41:04.073Z"
   },
   {
    "duration": 26,
    "start_time": "2024-10-02T15:41:08.125Z"
   },
   {
    "duration": 7,
    "start_time": "2024-10-02T15:42:07.797Z"
   },
   {
    "duration": 21,
    "start_time": "2024-10-02T15:42:11.372Z"
   },
   {
    "duration": 25,
    "start_time": "2024-10-02T15:42:14.462Z"
   },
   {
    "duration": 5,
    "start_time": "2024-10-02T15:46:07.215Z"
   },
   {
    "duration": 22,
    "start_time": "2024-10-02T15:46:10.818Z"
   },
   {
    "duration": 50,
    "start_time": "2024-10-02T15:46:14.063Z"
   },
   {
    "duration": 10,
    "start_time": "2024-10-02T15:48:12.334Z"
   },
   {
    "duration": 804,
    "start_time": "2024-10-02T16:05:28.021Z"
   },
   {
    "duration": 63,
    "start_time": "2024-10-02T16:05:28.827Z"
   },
   {
    "duration": 11,
    "start_time": "2024-10-02T16:05:28.892Z"
   },
   {
    "duration": 65,
    "start_time": "2024-10-02T16:05:28.905Z"
   },
   {
    "duration": 7,
    "start_time": "2024-10-02T16:05:28.972Z"
   },
   {
    "duration": 28,
    "start_time": "2024-10-02T16:05:28.981Z"
   },
   {
    "duration": 18,
    "start_time": "2024-10-02T16:05:29.010Z"
   },
   {
    "duration": 13,
    "start_time": "2024-10-02T16:05:29.029Z"
   },
   {
    "duration": 3,
    "start_time": "2024-10-02T16:05:29.070Z"
   },
   {
    "duration": 7,
    "start_time": "2024-10-02T16:05:29.075Z"
   },
   {
    "duration": 12,
    "start_time": "2024-10-02T16:05:29.083Z"
   },
   {
    "duration": 4,
    "start_time": "2024-10-02T16:05:29.097Z"
   },
   {
    "duration": 5,
    "start_time": "2024-10-02T16:05:29.103Z"
   },
   {
    "duration": 7,
    "start_time": "2024-10-02T16:05:29.110Z"
   },
   {
    "duration": 44,
    "start_time": "2024-10-02T16:05:29.126Z"
   },
   {
    "duration": 7,
    "start_time": "2024-10-02T16:05:29.172Z"
   },
   {
    "duration": 14,
    "start_time": "2024-10-02T16:05:29.180Z"
   },
   {
    "duration": 5,
    "start_time": "2024-10-02T16:05:29.196Z"
   },
   {
    "duration": 35,
    "start_time": "2024-10-02T16:05:29.203Z"
   },
   {
    "duration": 48,
    "start_time": "2024-10-02T16:05:29.240Z"
   },
   {
    "duration": 12,
    "start_time": "2024-10-02T16:05:29.289Z"
   },
   {
    "duration": 21,
    "start_time": "2024-10-02T16:05:29.303Z"
   },
   {
    "duration": 515,
    "start_time": "2024-10-02T16:11:01.031Z"
   },
   {
    "duration": 316,
    "start_time": "2024-10-02T16:12:06.391Z"
   },
   {
    "duration": 10,
    "start_time": "2024-10-02T16:13:52.123Z"
   },
   {
    "duration": 818,
    "start_time": "2024-10-02T16:45:18.919Z"
   },
   {
    "duration": 63,
    "start_time": "2024-10-02T16:45:19.740Z"
   },
   {
    "duration": 12,
    "start_time": "2024-10-02T16:45:19.805Z"
   },
   {
    "duration": 75,
    "start_time": "2024-10-02T16:45:19.818Z"
   },
   {
    "duration": 9,
    "start_time": "2024-10-02T16:45:19.896Z"
   },
   {
    "duration": 30,
    "start_time": "2024-10-02T16:45:19.906Z"
   },
   {
    "duration": 34,
    "start_time": "2024-10-02T16:45:19.938Z"
   },
   {
    "duration": 14,
    "start_time": "2024-10-02T16:45:19.974Z"
   },
   {
    "duration": 3,
    "start_time": "2024-10-02T16:45:19.989Z"
   },
   {
    "duration": 6,
    "start_time": "2024-10-02T16:45:19.994Z"
   },
   {
    "duration": 13,
    "start_time": "2024-10-02T16:45:20.001Z"
   },
   {
    "duration": 4,
    "start_time": "2024-10-02T16:45:20.016Z"
   },
   {
    "duration": 4,
    "start_time": "2024-10-02T16:45:20.022Z"
   },
   {
    "duration": 47,
    "start_time": "2024-10-02T16:45:20.029Z"
   },
   {
    "duration": 12,
    "start_time": "2024-10-02T16:45:20.077Z"
   },
   {
    "duration": 7,
    "start_time": "2024-10-02T16:45:20.090Z"
   },
   {
    "duration": 12,
    "start_time": "2024-10-02T16:45:20.099Z"
   },
   {
    "duration": 6,
    "start_time": "2024-10-02T16:45:20.113Z"
   },
   {
    "duration": 60,
    "start_time": "2024-10-02T16:45:20.121Z"
   },
   {
    "duration": 22,
    "start_time": "2024-10-02T16:45:20.183Z"
   },
   {
    "duration": 11,
    "start_time": "2024-10-02T16:45:20.208Z"
   },
   {
    "duration": 22,
    "start_time": "2024-10-02T16:45:20.220Z"
   },
   {
    "duration": 10,
    "start_time": "2024-10-02T16:47:12.162Z"
   },
   {
    "duration": 14,
    "start_time": "2024-10-02T16:49:06.507Z"
   },
   {
    "duration": 22,
    "start_time": "2024-10-02T16:49:16.817Z"
   },
   {
    "duration": 5,
    "start_time": "2024-10-02T16:50:25.124Z"
   },
   {
    "duration": 6,
    "start_time": "2024-10-02T16:50:27.738Z"
   },
   {
    "duration": 5,
    "start_time": "2024-10-02T16:50:41.802Z"
   },
   {
    "duration": 4,
    "start_time": "2024-10-02T16:50:43.479Z"
   },
   {
    "duration": 25,
    "start_time": "2024-10-02T16:50:49.238Z"
   },
   {
    "duration": 22,
    "start_time": "2024-10-02T16:53:02.474Z"
   },
   {
    "duration": 17,
    "start_time": "2024-10-02T16:53:15.944Z"
   },
   {
    "duration": 12,
    "start_time": "2024-10-02T16:53:25.333Z"
   },
   {
    "duration": 12,
    "start_time": "2024-10-02T16:53:29.156Z"
   },
   {
    "duration": 588,
    "start_time": "2024-10-02T16:58:04.992Z"
   },
   {
    "duration": 218,
    "start_time": "2024-10-02T17:14:09.015Z"
   },
   {
    "duration": 2456,
    "start_time": "2024-10-02T17:15:29.010Z"
   },
   {
    "duration": 2089,
    "start_time": "2024-10-02T17:15:51.092Z"
   },
   {
    "duration": 16,
    "start_time": "2024-10-02T17:19:18.151Z"
   },
   {
    "duration": 8,
    "start_time": "2024-10-02T17:19:26.036Z"
   },
   {
    "duration": 13,
    "start_time": "2024-10-02T17:22:39.611Z"
   },
   {
    "duration": 11,
    "start_time": "2024-10-02T17:22:57.307Z"
   },
   {
    "duration": 243,
    "start_time": "2024-10-02T17:22:57.953Z"
   },
   {
    "duration": 448,
    "start_time": "2024-10-02T17:23:14.797Z"
   },
   {
    "duration": 8,
    "start_time": "2024-10-02T17:24:28.262Z"
   },
   {
    "duration": 9,
    "start_time": "2024-10-02T17:24:30.102Z"
   },
   {
    "duration": 303,
    "start_time": "2024-10-02T17:24:31.178Z"
   },
   {
    "duration": 9,
    "start_time": "2024-10-02T17:24:39.645Z"
   },
   {
    "duration": 406,
    "start_time": "2024-10-02T17:24:40.502Z"
   },
   {
    "duration": 7,
    "start_time": "2024-10-02T17:28:08.667Z"
   },
   {
    "duration": 5,
    "start_time": "2024-10-02T17:28:11.281Z"
   },
   {
    "duration": 15,
    "start_time": "2024-10-02T17:28:20.699Z"
   },
   {
    "duration": 19,
    "start_time": "2024-10-02T17:28:34.536Z"
   },
   {
    "duration": 211,
    "start_time": "2024-10-02T17:32:22.041Z"
   },
   {
    "duration": 377,
    "start_time": "2024-10-02T17:32:32.004Z"
   },
   {
    "duration": 210,
    "start_time": "2024-10-02T17:32:44.728Z"
   },
   {
    "duration": 23,
    "start_time": "2024-10-02T17:38:18.514Z"
   },
   {
    "duration": 296,
    "start_time": "2024-10-02T17:38:33.806Z"
   },
   {
    "duration": 135,
    "start_time": "2024-10-02T17:59:00.740Z"
   },
   {
    "duration": 4,
    "start_time": "2024-10-02T18:00:01.819Z"
   },
   {
    "duration": 2,
    "start_time": "2024-10-02T18:00:03.779Z"
   },
   {
    "duration": 108,
    "start_time": "2024-10-02T18:00:13.786Z"
   },
   {
    "duration": 109,
    "start_time": "2024-10-02T18:01:58.872Z"
   },
   {
    "duration": 155,
    "start_time": "2024-10-02T18:03:08.167Z"
   },
   {
    "duration": 104,
    "start_time": "2024-10-02T18:03:22.628Z"
   },
   {
    "duration": 115,
    "start_time": "2024-10-02T18:03:59.269Z"
   },
   {
    "duration": 210,
    "start_time": "2024-10-02T18:10:32.439Z"
   },
   {
    "duration": 1240,
    "start_time": "2024-10-02T18:10:49.974Z"
   },
   {
    "duration": 140,
    "start_time": "2024-10-02T18:12:29.867Z"
   },
   {
    "duration": 3,
    "start_time": "2024-10-02T18:12:55.007Z"
   },
   {
    "duration": 4,
    "start_time": "2024-10-02T18:13:11.313Z"
   },
   {
    "duration": 599,
    "start_time": "2024-10-02T18:13:21.076Z"
   },
   {
    "duration": 144,
    "start_time": "2024-10-02T18:13:34.130Z"
   },
   {
    "duration": 143,
    "start_time": "2024-10-02T18:13:44.776Z"
   },
   {
    "duration": 156,
    "start_time": "2024-10-02T18:15:36.040Z"
   },
   {
    "duration": 209,
    "start_time": "2024-10-02T18:17:28.927Z"
   },
   {
    "duration": 15,
    "start_time": "2024-10-02T18:21:50.456Z"
   },
   {
    "duration": 147,
    "start_time": "2024-10-02T18:21:58.600Z"
   },
   {
    "duration": 257,
    "start_time": "2024-10-02T18:22:14.491Z"
   },
   {
    "duration": 146,
    "start_time": "2024-10-02T18:23:01.844Z"
   },
   {
    "duration": 163,
    "start_time": "2024-10-02T18:23:46.521Z"
   },
   {
    "duration": 139,
    "start_time": "2024-10-02T18:23:55.316Z"
   },
   {
    "duration": 125,
    "start_time": "2024-10-02T18:24:08.652Z"
   },
   {
    "duration": 2547,
    "start_time": "2024-10-03T03:43:51.941Z"
   },
   {
    "duration": 100,
    "start_time": "2024-10-03T03:43:54.490Z"
   },
   {
    "duration": 11,
    "start_time": "2024-10-03T03:43:54.592Z"
   },
   {
    "duration": 62,
    "start_time": "2024-10-03T03:43:54.605Z"
   },
   {
    "duration": 8,
    "start_time": "2024-10-03T03:43:54.669Z"
   },
   {
    "duration": 28,
    "start_time": "2024-10-03T03:43:54.679Z"
   },
   {
    "duration": 35,
    "start_time": "2024-10-03T03:43:54.709Z"
   },
   {
    "duration": 14,
    "start_time": "2024-10-03T03:43:54.745Z"
   },
   {
    "duration": 4,
    "start_time": "2024-10-03T03:43:54.760Z"
   },
   {
    "duration": 6,
    "start_time": "2024-10-03T03:43:54.767Z"
   },
   {
    "duration": 12,
    "start_time": "2024-10-03T03:43:54.774Z"
   },
   {
    "duration": 5,
    "start_time": "2024-10-03T03:43:54.787Z"
   },
   {
    "duration": 6,
    "start_time": "2024-10-03T03:43:54.793Z"
   },
   {
    "duration": 6,
    "start_time": "2024-10-03T03:43:54.800Z"
   },
   {
    "duration": 11,
    "start_time": "2024-10-03T03:43:54.843Z"
   },
   {
    "duration": 6,
    "start_time": "2024-10-03T03:43:54.855Z"
   },
   {
    "duration": 12,
    "start_time": "2024-10-03T03:43:54.863Z"
   },
   {
    "duration": 6,
    "start_time": "2024-10-03T03:43:54.877Z"
   },
   {
    "duration": 63,
    "start_time": "2024-10-03T03:43:54.885Z"
   },
   {
    "duration": 22,
    "start_time": "2024-10-03T03:43:54.950Z"
   },
   {
    "duration": 11,
    "start_time": "2024-10-03T03:43:54.973Z"
   },
   {
    "duration": 18,
    "start_time": "2024-10-03T03:43:54.986Z"
   },
   {
    "duration": 5,
    "start_time": "2024-10-03T03:43:55.006Z"
   },
   {
    "duration": 41,
    "start_time": "2024-10-03T03:43:55.014Z"
   },
   {
    "duration": 13,
    "start_time": "2024-10-03T03:43:55.057Z"
   },
   {
    "duration": 6,
    "start_time": "2024-10-03T03:43:55.072Z"
   },
   {
    "duration": 16,
    "start_time": "2024-10-03T03:43:55.080Z"
   },
   {
    "duration": 279,
    "start_time": "2024-10-03T03:43:55.100Z"
   },
   {
    "duration": 125,
    "start_time": "2024-10-03T03:43:55.382Z"
   },
   {
    "duration": 172,
    "start_time": "2024-10-03T03:43:55.509Z"
   },
   {
    "duration": 3,
    "start_time": "2024-10-03T03:43:55.684Z"
   },
   {
    "duration": 448,
    "start_time": "2024-10-03T03:50:15.159Z"
   },
   {
    "duration": 163,
    "start_time": "2024-10-03T03:50:19.912Z"
   },
   {
    "duration": 41,
    "start_time": "2024-10-03T03:50:26.342Z"
   },
   {
    "duration": 42,
    "start_time": "2024-10-03T03:53:25.232Z"
   },
   {
    "duration": 47,
    "start_time": "2024-10-03T04:07:41.566Z"
   },
   {
    "duration": 114,
    "start_time": "2024-10-03T04:08:05.508Z"
   },
   {
    "duration": 20,
    "start_time": "2024-10-03T04:14:00.722Z"
   },
   {
    "duration": 1240,
    "start_time": "2024-10-03T04:14:29.440Z"
   },
   {
    "duration": 523,
    "start_time": "2024-10-03T04:25:32.915Z"
   },
   {
    "duration": 196,
    "start_time": "2024-10-03T04:25:41.454Z"
   },
   {
    "duration": 103,
    "start_time": "2024-10-03T04:26:50.365Z"
   },
   {
    "duration": 202,
    "start_time": "2024-10-03T04:27:02.257Z"
   },
   {
    "duration": 102,
    "start_time": "2024-10-03T04:27:41.251Z"
   },
   {
    "duration": 122,
    "start_time": "2024-10-03T04:31:07.914Z"
   },
   {
    "duration": 158,
    "start_time": "2024-10-03T04:31:25.853Z"
   },
   {
    "duration": 18,
    "start_time": "2024-10-03T04:33:56.455Z"
   },
   {
    "duration": 42,
    "start_time": "2024-10-03T04:34:07.287Z"
   },
   {
    "duration": 41,
    "start_time": "2024-10-03T04:34:09.279Z"
   },
   {
    "duration": 40,
    "start_time": "2024-10-03T04:34:20.102Z"
   },
   {
    "duration": 14,
    "start_time": "2024-10-03T04:34:32.120Z"
   },
   {
    "duration": 42,
    "start_time": "2024-10-03T04:34:37.638Z"
   },
   {
    "duration": 18,
    "start_time": "2024-10-03T04:34:39.649Z"
   },
   {
    "duration": 193,
    "start_time": "2024-10-03T04:36:52.304Z"
   },
   {
    "duration": 199,
    "start_time": "2024-10-03T04:37:15.848Z"
   },
   {
    "duration": 199,
    "start_time": "2024-10-03T04:37:30.644Z"
   },
   {
    "duration": 186,
    "start_time": "2024-10-03T04:37:43.647Z"
   },
   {
    "duration": 188,
    "start_time": "2024-10-03T04:37:55.406Z"
   },
   {
    "duration": 190,
    "start_time": "2024-10-03T04:38:04.463Z"
   },
   {
    "duration": 204,
    "start_time": "2024-10-03T04:38:13.087Z"
   },
   {
    "duration": 297,
    "start_time": "2024-10-03T04:38:22.920Z"
   },
   {
    "duration": 47,
    "start_time": "2024-10-03T04:41:58.386Z"
   },
   {
    "duration": 148,
    "start_time": "2024-10-03T04:42:05.772Z"
   },
   {
    "duration": 56,
    "start_time": "2024-10-03T04:42:06.230Z"
   },
   {
    "duration": 148,
    "start_time": "2024-10-03T04:42:15.512Z"
   },
   {
    "duration": 166,
    "start_time": "2024-10-03T04:42:42.060Z"
   },
   {
    "duration": 301,
    "start_time": "2024-10-03T04:42:52.071Z"
   },
   {
    "duration": 1301,
    "start_time": "2024-10-03T04:43:25.492Z"
   },
   {
    "duration": 281,
    "start_time": "2024-10-03T04:43:38.429Z"
   },
   {
    "duration": 376,
    "start_time": "2024-10-03T04:43:46.227Z"
   },
   {
    "duration": 7,
    "start_time": "2024-10-03T04:50:44.646Z"
   },
   {
    "duration": 193,
    "start_time": "2024-10-03T04:51:08.577Z"
   },
   {
    "duration": 209,
    "start_time": "2024-10-03T04:51:18.325Z"
   },
   {
    "duration": 187,
    "start_time": "2024-10-03T04:51:28.941Z"
   },
   {
    "duration": 4347,
    "start_time": "2024-10-03T05:11:10.676Z"
   },
   {
    "duration": 225,
    "start_time": "2024-10-03T05:11:15.026Z"
   },
   {
    "duration": 3912,
    "start_time": "2024-10-03T05:21:53.818Z"
   },
   {
    "duration": 224,
    "start_time": "2024-10-03T05:21:57.733Z"
   },
   {
    "duration": 4431,
    "start_time": "2024-10-03T05:22:16.284Z"
   },
   {
    "duration": 2520,
    "start_time": "2024-10-03T06:02:49.345Z"
   },
   {
    "duration": 91,
    "start_time": "2024-10-03T06:02:51.867Z"
   },
   {
    "duration": 12,
    "start_time": "2024-10-03T06:02:51.960Z"
   },
   {
    "duration": 50,
    "start_time": "2024-10-03T06:02:51.974Z"
   },
   {
    "duration": 6,
    "start_time": "2024-10-03T06:02:52.026Z"
   },
   {
    "duration": 50,
    "start_time": "2024-10-03T06:02:52.033Z"
   },
   {
    "duration": 17,
    "start_time": "2024-10-03T06:02:52.084Z"
   },
   {
    "duration": 14,
    "start_time": "2024-10-03T06:02:52.103Z"
   },
   {
    "duration": 3,
    "start_time": "2024-10-03T06:02:52.120Z"
   },
   {
    "duration": 6,
    "start_time": "2024-10-03T06:02:52.126Z"
   },
   {
    "duration": 40,
    "start_time": "2024-10-03T06:02:52.134Z"
   },
   {
    "duration": 5,
    "start_time": "2024-10-03T06:02:52.176Z"
   },
   {
    "duration": 5,
    "start_time": "2024-10-03T06:02:52.183Z"
   },
   {
    "duration": 7,
    "start_time": "2024-10-03T06:02:52.189Z"
   },
   {
    "duration": 11,
    "start_time": "2024-10-03T06:02:52.197Z"
   },
   {
    "duration": 5,
    "start_time": "2024-10-03T06:02:52.210Z"
   },
   {
    "duration": 12,
    "start_time": "2024-10-03T06:02:52.217Z"
   },
   {
    "duration": 40,
    "start_time": "2024-10-03T06:02:52.231Z"
   },
   {
    "duration": 36,
    "start_time": "2024-10-03T06:02:52.272Z"
   },
   {
    "duration": 21,
    "start_time": "2024-10-03T06:02:52.310Z"
   },
   {
    "duration": 12,
    "start_time": "2024-10-03T06:02:52.333Z"
   },
   {
    "duration": 38,
    "start_time": "2024-10-03T06:02:52.346Z"
   },
   {
    "duration": 5,
    "start_time": "2024-10-03T06:02:52.386Z"
   },
   {
    "duration": 16,
    "start_time": "2024-10-03T06:02:52.393Z"
   },
   {
    "duration": 11,
    "start_time": "2024-10-03T06:02:52.410Z"
   },
   {
    "duration": 6,
    "start_time": "2024-10-03T06:02:52.423Z"
   },
   {
    "duration": 45,
    "start_time": "2024-10-03T06:02:52.431Z"
   },
   {
    "duration": 52,
    "start_time": "2024-10-03T06:02:52.479Z"
   },
   {
    "duration": 345,
    "start_time": "2024-10-03T06:02:52.533Z"
   },
   {
    "duration": 176,
    "start_time": "2024-10-03T06:02:52.880Z"
   },
   {
    "duration": 280,
    "start_time": "2024-10-03T06:02:53.058Z"
   },
   {
    "duration": 146,
    "start_time": "2024-10-03T06:02:53.341Z"
   },
   {
    "duration": 4523,
    "start_time": "2024-10-03T06:02:53.489Z"
   },
   {
    "duration": 518,
    "start_time": "2024-10-03T06:15:27.411Z"
   },
   {
    "duration": 843,
    "start_time": "2024-10-03T06:16:29.096Z"
   },
   {
    "duration": 63,
    "start_time": "2024-10-03T06:16:29.941Z"
   },
   {
    "duration": 13,
    "start_time": "2024-10-03T06:16:30.006Z"
   },
   {
    "duration": 63,
    "start_time": "2024-10-03T06:16:30.022Z"
   },
   {
    "duration": 7,
    "start_time": "2024-10-03T06:16:30.089Z"
   },
   {
    "duration": 30,
    "start_time": "2024-10-03T06:16:30.098Z"
   },
   {
    "duration": 42,
    "start_time": "2024-10-03T06:16:30.130Z"
   },
   {
    "duration": 14,
    "start_time": "2024-10-03T06:16:30.173Z"
   },
   {
    "duration": 4,
    "start_time": "2024-10-03T06:16:30.188Z"
   },
   {
    "duration": 7,
    "start_time": "2024-10-03T06:16:30.194Z"
   },
   {
    "duration": 12,
    "start_time": "2024-10-03T06:16:30.203Z"
   },
   {
    "duration": 4,
    "start_time": "2024-10-03T06:16:30.217Z"
   },
   {
    "duration": 4,
    "start_time": "2024-10-03T06:16:30.223Z"
   },
   {
    "duration": 44,
    "start_time": "2024-10-03T06:16:30.231Z"
   },
   {
    "duration": 11,
    "start_time": "2024-10-03T06:16:30.278Z"
   },
   {
    "duration": 5,
    "start_time": "2024-10-03T06:16:30.291Z"
   },
   {
    "duration": 13,
    "start_time": "2024-10-03T06:16:30.298Z"
   },
   {
    "duration": 7,
    "start_time": "2024-10-03T06:16:30.312Z"
   },
   {
    "duration": 60,
    "start_time": "2024-10-03T06:16:30.321Z"
   },
   {
    "duration": 22,
    "start_time": "2024-10-03T06:16:30.383Z"
   },
   {
    "duration": 11,
    "start_time": "2024-10-03T06:16:30.406Z"
   },
   {
    "duration": 19,
    "start_time": "2024-10-03T06:16:30.419Z"
   },
   {
    "duration": 6,
    "start_time": "2024-10-03T06:16:30.439Z"
   },
   {
    "duration": 41,
    "start_time": "2024-10-03T06:16:30.446Z"
   },
   {
    "duration": 11,
    "start_time": "2024-10-03T06:16:30.488Z"
   },
   {
    "duration": 6,
    "start_time": "2024-10-03T06:16:30.501Z"
   },
   {
    "duration": 16,
    "start_time": "2024-10-03T06:16:30.509Z"
   },
   {
    "duration": 135,
    "start_time": "2024-10-03T06:16:30.527Z"
   },
   {
    "duration": 335,
    "start_time": "2024-10-03T06:16:30.663Z"
   },
   {
    "duration": 127,
    "start_time": "2024-10-03T06:16:31.000Z"
   },
   {
    "duration": 285,
    "start_time": "2024-10-03T06:16:31.128Z"
   },
   {
    "duration": 163,
    "start_time": "2024-10-03T06:16:31.415Z"
   },
   {
    "duration": 4524,
    "start_time": "2024-10-03T06:16:31.580Z"
   },
   {
    "duration": 37618,
    "start_time": "2024-10-03T06:16:36.106Z"
   },
   {
    "duration": 2073,
    "start_time": "2024-10-03T06:19:25.632Z"
   },
   {
    "duration": 272,
    "start_time": "2024-10-03T06:20:05.855Z"
   },
   {
    "duration": 9,
    "start_time": "2024-10-03T06:27:12.896Z"
   },
   {
    "duration": 219,
    "start_time": "2024-10-03T06:27:25.047Z"
   },
   {
    "duration": 243,
    "start_time": "2024-10-03T06:27:35.555Z"
   },
   {
    "duration": 1631,
    "start_time": "2024-10-03T06:27:43.515Z"
   },
   {
    "duration": 3,
    "start_time": "2024-10-03T06:29:09.564Z"
   },
   {
    "duration": 31,
    "start_time": "2024-10-03T06:29:12.635Z"
   },
   {
    "duration": 6,
    "start_time": "2024-10-03T06:29:19.874Z"
   },
   {
    "duration": 4,
    "start_time": "2024-10-03T06:29:22.526Z"
   },
   {
    "duration": 28,
    "start_time": "2024-10-03T06:29:24.160Z"
   },
   {
    "duration": 14,
    "start_time": "2024-10-03T06:29:26.356Z"
   },
   {
    "duration": 12,
    "start_time": "2024-10-03T06:29:44.601Z"
   },
   {
    "duration": 6,
    "start_time": "2024-10-03T06:29:46.491Z"
   },
   {
    "duration": 20,
    "start_time": "2024-10-03T06:29:48.263Z"
   },
   {
    "duration": 59,
    "start_time": "2024-10-03T06:30:02.017Z"
   },
   {
    "duration": 310,
    "start_time": "2024-10-03T06:30:04.399Z"
   },
   {
    "duration": 133,
    "start_time": "2024-10-03T06:30:10.706Z"
   },
   {
    "duration": 269,
    "start_time": "2024-10-03T06:30:13.608Z"
   },
   {
    "duration": 3291,
    "start_time": "2024-10-03T06:30:17.273Z"
   },
   {
    "duration": 4546,
    "start_time": "2024-10-03T06:30:20.569Z"
   },
   {
    "duration": 8,
    "start_time": "2024-10-03T06:30:25.117Z"
   },
   {
    "duration": 8,
    "start_time": "2024-10-03T06:30:57.248Z"
   },
   {
    "duration": 1830,
    "start_time": "2024-10-03T06:30:59.650Z"
   },
   {
    "duration": 6,
    "start_time": "2024-10-03T06:32:09.901Z"
   },
   {
    "duration": 20,
    "start_time": "2024-10-03T06:32:13.185Z"
   },
   {
    "duration": 3,
    "start_time": "2024-10-03T06:32:26.110Z"
   },
   {
    "duration": 3,
    "start_time": "2024-10-03T06:32:27.716Z"
   },
   {
    "duration": 31,
    "start_time": "2024-10-03T06:32:30.508Z"
   },
   {
    "duration": 7,
    "start_time": "2024-10-03T06:32:37.149Z"
   },
   {
    "duration": 5,
    "start_time": "2024-10-03T06:32:38.992Z"
   },
   {
    "duration": 12,
    "start_time": "2024-10-03T06:32:41.888Z"
   },
   {
    "duration": 11,
    "start_time": "2024-10-03T06:32:43.161Z"
   },
   {
    "duration": 11,
    "start_time": "2024-10-03T06:32:44.688Z"
   },
   {
    "duration": 11,
    "start_time": "2024-10-03T06:32:45.641Z"
   },
   {
    "duration": 15,
    "start_time": "2024-10-03T06:33:30.563Z"
   },
   {
    "duration": 15,
    "start_time": "2024-10-03T06:33:33.540Z"
   },
   {
    "duration": 787,
    "start_time": "2024-10-03T06:33:58.371Z"
   },
   {
    "duration": 62,
    "start_time": "2024-10-03T06:33:59.160Z"
   },
   {
    "duration": 12,
    "start_time": "2024-10-03T06:33:59.224Z"
   },
   {
    "duration": 63,
    "start_time": "2024-10-03T06:33:59.237Z"
   },
   {
    "duration": 8,
    "start_time": "2024-10-03T06:33:59.303Z"
   },
   {
    "duration": 30,
    "start_time": "2024-10-03T06:33:59.312Z"
   },
   {
    "duration": 38,
    "start_time": "2024-10-03T06:33:59.343Z"
   },
   {
    "duration": 13,
    "start_time": "2024-10-03T06:33:59.383Z"
   },
   {
    "duration": 3,
    "start_time": "2024-10-03T06:33:59.398Z"
   },
   {
    "duration": 6,
    "start_time": "2024-10-03T06:33:59.403Z"
   },
   {
    "duration": 11,
    "start_time": "2024-10-03T06:33:59.410Z"
   },
   {
    "duration": 5,
    "start_time": "2024-10-03T06:33:59.423Z"
   },
   {
    "duration": 5,
    "start_time": "2024-10-03T06:33:59.429Z"
   },
   {
    "duration": 8,
    "start_time": "2024-10-03T06:33:59.470Z"
   },
   {
    "duration": 12,
    "start_time": "2024-10-03T06:33:59.479Z"
   },
   {
    "duration": 6,
    "start_time": "2024-10-03T06:33:59.492Z"
   },
   {
    "duration": 12,
    "start_time": "2024-10-03T06:33:59.500Z"
   },
   {
    "duration": 16,
    "start_time": "2024-10-03T06:33:59.513Z"
   },
   {
    "duration": 63,
    "start_time": "2024-10-03T06:33:59.531Z"
   },
   {
    "duration": 22,
    "start_time": "2024-10-03T06:33:59.596Z"
   },
   {
    "duration": 11,
    "start_time": "2024-10-03T06:33:59.620Z"
   },
   {
    "duration": 818,
    "start_time": "2024-10-03T06:33:59.633Z"
   },
   {
    "duration": 0,
    "start_time": "2024-10-03T06:34:00.453Z"
   },
   {
    "duration": 0,
    "start_time": "2024-10-03T06:34:00.455Z"
   },
   {
    "duration": 0,
    "start_time": "2024-10-03T06:34:00.456Z"
   },
   {
    "duration": 0,
    "start_time": "2024-10-03T06:34:00.457Z"
   },
   {
    "duration": 0,
    "start_time": "2024-10-03T06:34:00.458Z"
   },
   {
    "duration": 0,
    "start_time": "2024-10-03T06:34:00.458Z"
   },
   {
    "duration": 0,
    "start_time": "2024-10-03T06:34:00.459Z"
   },
   {
    "duration": 0,
    "start_time": "2024-10-03T06:34:00.459Z"
   },
   {
    "duration": 0,
    "start_time": "2024-10-03T06:34:00.469Z"
   },
   {
    "duration": 0,
    "start_time": "2024-10-03T06:34:00.470Z"
   },
   {
    "duration": 0,
    "start_time": "2024-10-03T06:34:00.472Z"
   },
   {
    "duration": 0,
    "start_time": "2024-10-03T06:34:00.474Z"
   },
   {
    "duration": 0,
    "start_time": "2024-10-03T06:34:00.476Z"
   },
   {
    "duration": 16,
    "start_time": "2024-10-03T06:34:51.464Z"
   },
   {
    "duration": 5,
    "start_time": "2024-10-03T06:35:02.937Z"
   },
   {
    "duration": 25,
    "start_time": "2024-10-03T06:35:09.227Z"
   },
   {
    "duration": 22,
    "start_time": "2024-10-03T06:35:11.196Z"
   },
   {
    "duration": 21,
    "start_time": "2024-10-03T06:35:13.464Z"
   },
   {
    "duration": 10,
    "start_time": "2024-10-03T06:35:15.958Z"
   },
   {
    "duration": 49,
    "start_time": "2024-10-03T06:35:17.034Z"
   },
   {
    "duration": 16,
    "start_time": "2024-10-03T06:35:22.519Z"
   },
   {
    "duration": 68,
    "start_time": "2024-10-03T06:35:24.164Z"
   },
   {
    "duration": 5,
    "start_time": "2024-10-03T06:35:28.467Z"
   },
   {
    "duration": 18,
    "start_time": "2024-10-03T06:35:29.786Z"
   },
   {
    "duration": 18,
    "start_time": "2024-10-03T06:35:30.010Z"
   },
   {
    "duration": 12,
    "start_time": "2024-10-03T06:35:32.700Z"
   },
   {
    "duration": 6,
    "start_time": "2024-10-03T06:35:34.865Z"
   },
   {
    "duration": 18,
    "start_time": "2024-10-03T06:35:36.817Z"
   },
   {
    "duration": 139,
    "start_time": "2024-10-03T06:35:39.590Z"
   },
   {
    "duration": 317,
    "start_time": "2024-10-03T06:35:43.215Z"
   },
   {
    "duration": 129,
    "start_time": "2024-10-03T06:35:47.349Z"
   },
   {
    "duration": 265,
    "start_time": "2024-10-03T06:35:50.284Z"
   },
   {
    "duration": 177,
    "start_time": "2024-10-03T06:35:53.572Z"
   },
   {
    "duration": 4414,
    "start_time": "2024-10-03T06:35:55.550Z"
   },
   {
    "duration": 12,
    "start_time": "2024-10-03T06:36:04.215Z"
   },
   {
    "duration": 658,
    "start_time": "2024-10-03T06:36:07.608Z"
   },
   {
    "duration": 32,
    "start_time": "2024-10-03T06:38:07.841Z"
   },
   {
    "duration": 6,
    "start_time": "2024-10-03T06:38:11.249Z"
   },
   {
    "duration": 94,
    "start_time": "2024-10-03T06:38:12.868Z"
   },
   {
    "duration": 8,
    "start_time": "2024-10-03T06:39:23.139Z"
   },
   {
    "duration": 7,
    "start_time": "2024-10-03T06:39:35.401Z"
   },
   {
    "duration": 7,
    "start_time": "2024-10-03T06:39:36.585Z"
   },
   {
    "duration": 8,
    "start_time": "2024-10-03T06:39:36.804Z"
   },
   {
    "duration": 4310,
    "start_time": "2024-10-03T06:39:40.012Z"
   },
   {
    "duration": 108,
    "start_time": "2024-10-03T06:39:44.324Z"
   },
   {
    "duration": 5,
    "start_time": "2024-10-03T06:39:44.435Z"
   },
   {
    "duration": 8,
    "start_time": "2024-10-03T06:41:50.180Z"
   },
   {
    "duration": 58,
    "start_time": "2024-10-03T06:42:05.896Z"
   },
   {
    "duration": 95,
    "start_time": "2024-10-03T06:42:20.820Z"
   },
   {
    "duration": 98,
    "start_time": "2024-10-03T06:42:22.779Z"
   },
   {
    "duration": 2589,
    "start_time": "2024-10-03T17:17:33.905Z"
   },
   {
    "duration": 91,
    "start_time": "2024-10-03T17:17:36.497Z"
   },
   {
    "duration": 11,
    "start_time": "2024-10-03T17:17:36.590Z"
   },
   {
    "duration": 50,
    "start_time": "2024-10-03T17:17:36.603Z"
   },
   {
    "duration": 7,
    "start_time": "2024-10-03T17:17:36.657Z"
   },
   {
    "duration": 29,
    "start_time": "2024-10-03T17:17:36.666Z"
   },
   {
    "duration": 38,
    "start_time": "2024-10-03T17:17:36.696Z"
   },
   {
    "duration": 13,
    "start_time": "2024-10-03T17:17:36.736Z"
   },
   {
    "duration": 3,
    "start_time": "2024-10-03T17:17:36.751Z"
   },
   {
    "duration": 6,
    "start_time": "2024-10-03T17:17:36.756Z"
   },
   {
    "duration": 11,
    "start_time": "2024-10-03T17:17:36.764Z"
   },
   {
    "duration": 5,
    "start_time": "2024-10-03T17:17:36.777Z"
   },
   {
    "duration": 6,
    "start_time": "2024-10-03T17:17:36.783Z"
   },
   {
    "duration": 44,
    "start_time": "2024-10-03T17:17:36.793Z"
   },
   {
    "duration": 12,
    "start_time": "2024-10-03T17:17:36.840Z"
   },
   {
    "duration": 8,
    "start_time": "2024-10-03T17:17:36.854Z"
   },
   {
    "duration": 12,
    "start_time": "2024-10-03T17:17:36.864Z"
   },
   {
    "duration": 27,
    "start_time": "2024-10-03T17:17:36.877Z"
   },
   {
    "duration": 24,
    "start_time": "2024-10-03T17:17:36.932Z"
   },
   {
    "duration": 12,
    "start_time": "2024-10-03T17:17:36.957Z"
   },
   {
    "duration": 16,
    "start_time": "2024-10-03T17:17:36.970Z"
   },
   {
    "duration": 4,
    "start_time": "2024-10-03T17:17:36.988Z"
   },
   {
    "duration": 46,
    "start_time": "2024-10-03T17:17:36.994Z"
   },
   {
    "duration": 12,
    "start_time": "2024-10-03T17:17:37.042Z"
   },
   {
    "duration": 7,
    "start_time": "2024-10-03T17:17:37.056Z"
   },
   {
    "duration": 18,
    "start_time": "2024-10-03T17:17:37.064Z"
   },
   {
    "duration": 84,
    "start_time": "2024-10-03T17:17:37.084Z"
   },
   {
    "duration": 414,
    "start_time": "2024-10-03T17:17:37.170Z"
   },
   {
    "duration": 143,
    "start_time": "2024-10-03T17:17:37.586Z"
   },
   {
    "duration": 285,
    "start_time": "2024-10-03T17:17:37.732Z"
   },
   {
    "duration": 175,
    "start_time": "2024-10-03T17:17:38.019Z"
   },
   {
    "duration": 4529,
    "start_time": "2024-10-03T17:17:38.196Z"
   },
   {
    "duration": 8,
    "start_time": "2024-10-03T17:17:42.727Z"
   },
   {
    "duration": 2083,
    "start_time": "2024-10-03T17:17:42.737Z"
   },
   {
    "duration": 2231,
    "start_time": "2024-10-03T17:26:33.797Z"
   },
   {
    "duration": 16938,
    "start_time": "2024-10-03T17:28:42.113Z"
   },
   {
    "duration": 1016,
    "start_time": "2024-10-03T17:29:39.785Z"
   },
   {
    "duration": 1491,
    "start_time": "2024-10-03T17:30:27.626Z"
   },
   {
    "duration": 2297,
    "start_time": "2024-10-03T17:30:55.273Z"
   },
   {
    "duration": 592,
    "start_time": "2024-10-03T17:31:12.310Z"
   },
   {
    "duration": 1626,
    "start_time": "2024-10-03T17:31:22.785Z"
   },
   {
    "duration": 2940,
    "start_time": "2024-10-03T17:31:47.532Z"
   },
   {
    "duration": 2549,
    "start_time": "2024-10-03T17:32:07.141Z"
   },
   {
    "duration": 21,
    "start_time": "2024-10-03T17:35:43.659Z"
   },
   {
    "duration": 1977,
    "start_time": "2024-10-03T17:39:39.086Z"
   },
   {
    "duration": 2662,
    "start_time": "2024-10-03T17:40:51.891Z"
   },
   {
    "duration": 1904,
    "start_time": "2024-10-03T17:41:20.282Z"
   },
   {
    "duration": 970,
    "start_time": "2024-10-03T17:41:46.852Z"
   },
   {
    "duration": 1079,
    "start_time": "2024-10-03T17:43:06.790Z"
   },
   {
    "duration": 1969,
    "start_time": "2024-10-03T17:43:16.672Z"
   },
   {
    "duration": 2009,
    "start_time": "2024-10-03T17:43:33.472Z"
   },
   {
    "duration": 32,
    "start_time": "2024-10-03T17:45:00.624Z"
   },
   {
    "duration": 227,
    "start_time": "2024-10-03T17:46:52.164Z"
   },
   {
    "duration": 4340,
    "start_time": "2024-10-03T17:52:56.160Z"
   },
   {
    "duration": 5,
    "start_time": "2024-10-03T18:05:44.154Z"
   },
   {
    "duration": 31,
    "start_time": "2024-10-03T18:05:47.385Z"
   },
   {
    "duration": 4,
    "start_time": "2024-10-03T18:15:45.479Z"
   },
   {
    "duration": 30,
    "start_time": "2024-10-03T18:15:54.240Z"
   },
   {
    "duration": 5,
    "start_time": "2024-10-03T18:16:16.989Z"
   },
   {
    "duration": 4,
    "start_time": "2024-10-03T18:16:18.559Z"
   },
   {
    "duration": 28,
    "start_time": "2024-10-03T18:16:21.251Z"
   },
   {
    "duration": 31,
    "start_time": "2024-10-03T18:17:16.778Z"
   },
   {
    "duration": 31,
    "start_time": "2024-10-03T18:17:17.796Z"
   },
   {
    "duration": 32,
    "start_time": "2024-10-03T18:17:20.261Z"
   },
   {
    "duration": 31,
    "start_time": "2024-10-03T18:17:46.545Z"
   },
   {
    "duration": 4,
    "start_time": "2024-10-03T18:18:01.127Z"
   },
   {
    "duration": 37,
    "start_time": "2024-10-03T18:18:06.512Z"
   },
   {
    "duration": 837,
    "start_time": "2024-10-03T18:18:20.679Z"
   },
   {
    "duration": 63,
    "start_time": "2024-10-03T18:18:21.519Z"
   },
   {
    "duration": 12,
    "start_time": "2024-10-03T18:18:21.583Z"
   },
   {
    "duration": 63,
    "start_time": "2024-10-03T18:18:21.597Z"
   },
   {
    "duration": 8,
    "start_time": "2024-10-03T18:18:21.662Z"
   },
   {
    "duration": 30,
    "start_time": "2024-10-03T18:18:21.672Z"
   },
   {
    "duration": 41,
    "start_time": "2024-10-03T18:18:21.704Z"
   },
   {
    "duration": 14,
    "start_time": "2024-10-03T18:18:21.747Z"
   },
   {
    "duration": 4,
    "start_time": "2024-10-03T18:18:21.763Z"
   },
   {
    "duration": 7,
    "start_time": "2024-10-03T18:18:21.770Z"
   },
   {
    "duration": 13,
    "start_time": "2024-10-03T18:18:21.779Z"
   },
   {
    "duration": 5,
    "start_time": "2024-10-03T18:18:21.794Z"
   },
   {
    "duration": 6,
    "start_time": "2024-10-03T18:18:21.831Z"
   },
   {
    "duration": 8,
    "start_time": "2024-10-03T18:18:21.839Z"
   },
   {
    "duration": 12,
    "start_time": "2024-10-03T18:18:21.848Z"
   },
   {
    "duration": 7,
    "start_time": "2024-10-03T18:18:21.862Z"
   },
   {
    "duration": 13,
    "start_time": "2024-10-03T18:18:21.871Z"
   },
   {
    "duration": 58,
    "start_time": "2024-10-03T18:18:21.885Z"
   },
   {
    "duration": 28,
    "start_time": "2024-10-03T18:18:21.945Z"
   },
   {
    "duration": 13,
    "start_time": "2024-10-03T18:18:21.975Z"
   },
   {
    "duration": 889,
    "start_time": "2024-10-03T18:18:21.990Z"
   },
   {
    "duration": 0,
    "start_time": "2024-10-03T18:18:22.882Z"
   },
   {
    "duration": 0,
    "start_time": "2024-10-03T18:18:22.883Z"
   },
   {
    "duration": 0,
    "start_time": "2024-10-03T18:18:22.884Z"
   },
   {
    "duration": 0,
    "start_time": "2024-10-03T18:18:22.885Z"
   },
   {
    "duration": 0,
    "start_time": "2024-10-03T18:18:22.887Z"
   },
   {
    "duration": 0,
    "start_time": "2024-10-03T18:18:22.888Z"
   },
   {
    "duration": 0,
    "start_time": "2024-10-03T18:18:22.890Z"
   },
   {
    "duration": 0,
    "start_time": "2024-10-03T18:18:22.891Z"
   },
   {
    "duration": 0,
    "start_time": "2024-10-03T18:18:22.893Z"
   },
   {
    "duration": 0,
    "start_time": "2024-10-03T18:18:22.894Z"
   },
   {
    "duration": 0,
    "start_time": "2024-10-03T18:18:22.895Z"
   },
   {
    "duration": 0,
    "start_time": "2024-10-03T18:18:22.896Z"
   },
   {
    "duration": 0,
    "start_time": "2024-10-03T18:18:22.897Z"
   },
   {
    "duration": 8,
    "start_time": "2024-10-03T18:18:53.404Z"
   },
   {
    "duration": 71,
    "start_time": "2024-10-03T18:18:54.978Z"
   },
   {
    "duration": 4,
    "start_time": "2024-10-03T18:19:01.220Z"
   },
   {
    "duration": 19,
    "start_time": "2024-10-03T18:19:04.324Z"
   },
   {
    "duration": 14,
    "start_time": "2024-10-03T18:19:06.581Z"
   },
   {
    "duration": 336,
    "start_time": "2024-10-03T18:19:52.820Z"
   },
   {
    "duration": 60,
    "start_time": "2024-10-03T18:19:56.289Z"
   },
   {
    "duration": 46,
    "start_time": "2024-10-03T18:22:34.615Z"
   },
   {
    "duration": 47,
    "start_time": "2024-10-03T18:22:44.018Z"
   },
   {
    "duration": 880,
    "start_time": "2024-10-03T18:22:50.651Z"
   },
   {
    "duration": 61,
    "start_time": "2024-10-03T18:22:51.533Z"
   },
   {
    "duration": 14,
    "start_time": "2024-10-03T18:22:51.595Z"
   },
   {
    "duration": 68,
    "start_time": "2024-10-03T18:22:51.610Z"
   },
   {
    "duration": 7,
    "start_time": "2024-10-03T18:22:51.682Z"
   },
   {
    "duration": 48,
    "start_time": "2024-10-03T18:22:51.691Z"
   },
   {
    "duration": 18,
    "start_time": "2024-10-03T18:22:51.740Z"
   },
   {
    "duration": 14,
    "start_time": "2024-10-03T18:22:51.760Z"
   },
   {
    "duration": 5,
    "start_time": "2024-10-03T18:22:51.776Z"
   },
   {
    "duration": 3,
    "start_time": "2024-10-03T18:22:51.782Z"
   },
   {
    "duration": 4,
    "start_time": "2024-10-03T18:22:51.787Z"
   },
   {
    "duration": 40,
    "start_time": "2024-10-03T18:22:51.793Z"
   },
   {
    "duration": 5,
    "start_time": "2024-10-03T18:22:51.835Z"
   },
   {
    "duration": 4,
    "start_time": "2024-10-03T18:22:51.844Z"
   },
   {
    "duration": 7,
    "start_time": "2024-10-03T18:22:51.850Z"
   },
   {
    "duration": 12,
    "start_time": "2024-10-03T18:22:51.859Z"
   },
   {
    "duration": 8,
    "start_time": "2024-10-03T18:22:51.873Z"
   },
   {
    "duration": 12,
    "start_time": "2024-10-03T18:22:51.883Z"
   },
   {
    "duration": 29,
    "start_time": "2024-10-03T18:22:51.930Z"
   },
   {
    "duration": 23,
    "start_time": "2024-10-03T18:22:51.962Z"
   },
   {
    "duration": 12,
    "start_time": "2024-10-03T18:22:51.987Z"
   },
   {
    "duration": 36,
    "start_time": "2024-10-03T18:22:52.001Z"
   },
   {
    "duration": 4,
    "start_time": "2024-10-03T18:22:52.039Z"
   },
   {
    "duration": 17,
    "start_time": "2024-10-03T18:22:52.044Z"
   },
   {
    "duration": 12,
    "start_time": "2024-10-03T18:22:52.063Z"
   },
   {
    "duration": 146,
    "start_time": "2024-10-03T18:22:52.077Z"
   },
   {
    "duration": 251,
    "start_time": "2024-10-03T18:22:52.225Z"
   },
   {
    "duration": 7647,
    "start_time": "2024-10-03T18:22:52.478Z"
   },
   {
    "duration": 2215,
    "start_time": "2024-10-03T18:23:00.131Z"
   },
   {
    "duration": 714,
    "start_time": "2024-10-03T18:23:02.349Z"
   },
   {
    "duration": 27,
    "start_time": "2024-10-03T18:23:03.065Z"
   },
   {
    "duration": 4523,
    "start_time": "2024-10-03T18:23:03.094Z"
   },
   {
    "duration": 16,
    "start_time": "2024-10-03T18:23:07.620Z"
   },
   {
    "duration": 2170,
    "start_time": "2024-10-03T18:23:07.638Z"
   },
   {
    "duration": 2500,
    "start_time": "2024-10-03T18:23:09.809Z"
   },
   {
    "duration": 18,
    "start_time": "2024-10-03T18:23:12.313Z"
   },
   {
    "duration": 4,
    "start_time": "2024-10-03T18:26:49.707Z"
   },
   {
    "duration": 5,
    "start_time": "2024-10-03T18:26:50.529Z"
   },
   {
    "duration": 6,
    "start_time": "2024-10-03T18:27:30.676Z"
   },
   {
    "duration": 5,
    "start_time": "2024-10-03T18:27:32.035Z"
   },
   {
    "duration": 10,
    "start_time": "2024-10-03T18:28:13.204Z"
   },
   {
    "duration": 4,
    "start_time": "2024-10-03T18:29:04.088Z"
   },
   {
    "duration": 4,
    "start_time": "2024-10-03T18:29:30.779Z"
   },
   {
    "duration": 30,
    "start_time": "2024-10-03T18:29:34.594Z"
   },
   {
    "duration": 5,
    "start_time": "2024-10-03T18:30:41.796Z"
   },
   {
    "duration": 31,
    "start_time": "2024-10-03T18:30:47.496Z"
   },
   {
    "duration": 5,
    "start_time": "2024-10-03T18:30:53.391Z"
   },
   {
    "duration": 5,
    "start_time": "2024-10-03T18:31:01.496Z"
   },
   {
    "duration": 28,
    "start_time": "2024-10-03T18:31:38.692Z"
   },
   {
    "duration": 13,
    "start_time": "2024-10-03T18:31:42.986Z"
   },
   {
    "duration": 261,
    "start_time": "2024-10-03T18:31:47.420Z"
   },
   {
    "duration": 224,
    "start_time": "2024-10-03T18:31:52.096Z"
   },
   {
    "duration": 7366,
    "start_time": "2024-10-03T18:31:54.500Z"
   },
   {
    "duration": 2186,
    "start_time": "2024-10-03T18:32:25.956Z"
   },
   {
    "duration": 3,
    "start_time": "2024-10-03T18:40:49.299Z"
   },
   {
    "duration": 6,
    "start_time": "2024-10-03T18:41:58.999Z"
   },
   {
    "duration": 34,
    "start_time": "2024-10-03T18:42:08.872Z"
   },
   {
    "duration": 6,
    "start_time": "2024-10-03T18:42:11.350Z"
   },
   {
    "duration": 29,
    "start_time": "2024-10-03T18:42:13.749Z"
   },
   {
    "duration": 9,
    "start_time": "2024-10-03T18:42:19.553Z"
   },
   {
    "duration": 5,
    "start_time": "2024-10-03T18:42:20.062Z"
   },
   {
    "duration": 5,
    "start_time": "2024-10-03T18:42:21.291Z"
   },
   {
    "duration": 30,
    "start_time": "2024-10-03T18:42:22.796Z"
   },
   {
    "duration": 13,
    "start_time": "2024-10-03T18:42:24.311Z"
   },
   {
    "duration": 657,
    "start_time": "2024-10-03T18:42:28.174Z"
   },
   {
    "duration": 218,
    "start_time": "2024-10-03T18:42:31.542Z"
   },
   {
    "duration": 7,
    "start_time": "2024-10-03T18:42:52.044Z"
   },
   {
    "duration": 7003,
    "start_time": "2024-10-03T18:43:03.657Z"
   },
   {
    "duration": 155,
    "start_time": "2024-10-04T06:19:10.504Z"
   },
   {
    "duration": 2571,
    "start_time": "2024-10-04T06:19:20.236Z"
   },
   {
    "duration": 85,
    "start_time": "2024-10-04T06:19:22.809Z"
   },
   {
    "duration": 20,
    "start_time": "2024-10-04T06:19:22.895Z"
   },
   {
    "duration": 59,
    "start_time": "2024-10-04T06:19:22.917Z"
   },
   {
    "duration": 7,
    "start_time": "2024-10-04T06:19:22.978Z"
   },
   {
    "duration": 29,
    "start_time": "2024-10-04T06:19:22.987Z"
   },
   {
    "duration": 18,
    "start_time": "2024-10-04T06:19:23.017Z"
   },
   {
    "duration": 42,
    "start_time": "2024-10-04T06:19:23.036Z"
   },
   {
    "duration": 5,
    "start_time": "2024-10-04T06:19:23.080Z"
   },
   {
    "duration": 4,
    "start_time": "2024-10-04T06:19:23.089Z"
   },
   {
    "duration": 5,
    "start_time": "2024-10-04T06:19:23.095Z"
   },
   {
    "duration": 5,
    "start_time": "2024-10-04T06:19:23.101Z"
   },
   {
    "duration": 5,
    "start_time": "2024-10-04T06:19:23.108Z"
   },
   {
    "duration": 7,
    "start_time": "2024-10-04T06:19:23.114Z"
   },
   {
    "duration": 50,
    "start_time": "2024-10-04T06:19:23.122Z"
   },
   {
    "duration": 9,
    "start_time": "2024-10-04T06:19:23.174Z"
   },
   {
    "duration": 11,
    "start_time": "2024-10-04T06:19:23.185Z"
   },
   {
    "duration": 25,
    "start_time": "2024-10-04T06:19:23.198Z"
   },
   {
    "duration": 20,
    "start_time": "2024-10-04T06:19:23.225Z"
   },
   {
    "duration": 12,
    "start_time": "2024-10-04T06:19:23.271Z"
   },
   {
    "duration": 788,
    "start_time": "2024-10-04T06:19:23.284Z"
   },
   {
    "duration": 0,
    "start_time": "2024-10-04T06:19:24.074Z"
   },
   {
    "duration": 0,
    "start_time": "2024-10-04T06:19:24.075Z"
   },
   {
    "duration": 0,
    "start_time": "2024-10-04T06:19:24.076Z"
   },
   {
    "duration": 0,
    "start_time": "2024-10-04T06:19:24.077Z"
   },
   {
    "duration": 0,
    "start_time": "2024-10-04T06:19:24.080Z"
   },
   {
    "duration": 0,
    "start_time": "2024-10-04T06:19:24.081Z"
   },
   {
    "duration": 0,
    "start_time": "2024-10-04T06:19:24.082Z"
   },
   {
    "duration": 0,
    "start_time": "2024-10-04T06:19:24.083Z"
   },
   {
    "duration": 0,
    "start_time": "2024-10-04T06:19:24.084Z"
   },
   {
    "duration": 0,
    "start_time": "2024-10-04T06:19:24.087Z"
   },
   {
    "duration": 0,
    "start_time": "2024-10-04T06:19:24.088Z"
   },
   {
    "duration": 0,
    "start_time": "2024-10-04T06:19:24.091Z"
   },
   {
    "duration": 0,
    "start_time": "2024-10-04T06:19:24.092Z"
   },
   {
    "duration": 11,
    "start_time": "2024-10-04T06:26:19.633Z"
   },
   {
    "duration": 32,
    "start_time": "2024-10-04T06:26:22.949Z"
   },
   {
    "duration": 18,
    "start_time": "2024-10-04T06:26:30.786Z"
   },
   {
    "duration": 5,
    "start_time": "2024-10-04T06:27:05.360Z"
   },
   {
    "duration": 17,
    "start_time": "2024-10-04T06:27:24.475Z"
   },
   {
    "duration": 23,
    "start_time": "2024-10-04T06:27:32.835Z"
   },
   {
    "duration": 8,
    "start_time": "2024-10-04T06:43:04.252Z"
   },
   {
    "duration": 4,
    "start_time": "2024-10-04T06:43:16.388Z"
   },
   {
    "duration": 3,
    "start_time": "2024-10-04T06:43:22.943Z"
   },
   {
    "duration": 3,
    "start_time": "2024-10-04T06:43:23.882Z"
   },
   {
    "duration": 60,
    "start_time": "2024-10-04T06:43:28.952Z"
   },
   {
    "duration": 18,
    "start_time": "2024-10-04T06:43:32.659Z"
   },
   {
    "duration": 51,
    "start_time": "2024-10-04T06:43:34.012Z"
   },
   {
    "duration": 11,
    "start_time": "2024-10-04T06:43:34.972Z"
   },
   {
    "duration": 28,
    "start_time": "2024-10-04T06:43:35.546Z"
   },
   {
    "duration": 18,
    "start_time": "2024-10-04T06:43:36.167Z"
   },
   {
    "duration": 17,
    "start_time": "2024-10-04T06:43:36.773Z"
   },
   {
    "duration": 19,
    "start_time": "2024-10-04T06:43:37.509Z"
   },
   {
    "duration": 4,
    "start_time": "2024-10-04T06:43:38.513Z"
   },
   {
    "duration": 5,
    "start_time": "2024-10-04T06:43:49.770Z"
   },
   {
    "duration": 20,
    "start_time": "2024-10-04T06:44:17.571Z"
   },
   {
    "duration": 5,
    "start_time": "2024-10-04T06:45:13.038Z"
   },
   {
    "duration": 5,
    "start_time": "2024-10-04T06:45:26.601Z"
   },
   {
    "duration": 18,
    "start_time": "2024-10-04T06:45:52.465Z"
   },
   {
    "duration": 8,
    "start_time": "2024-10-04T06:46:42.871Z"
   },
   {
    "duration": 19,
    "start_time": "2024-10-04T06:47:26.443Z"
   },
   {
    "duration": 8,
    "start_time": "2024-10-04T06:47:35.145Z"
   },
   {
    "duration": 348,
    "start_time": "2024-10-04T06:48:57.209Z"
   },
   {
    "duration": 54,
    "start_time": "2024-10-04T06:51:59.372Z"
   },
   {
    "duration": 12,
    "start_time": "2024-10-04T06:52:24.758Z"
   },
   {
    "duration": 8,
    "start_time": "2024-10-04T06:52:32.181Z"
   },
   {
    "duration": 53,
    "start_time": "2024-10-04T06:52:53.056Z"
   },
   {
    "duration": 792,
    "start_time": "2024-10-04T06:53:51.058Z"
   },
   {
    "duration": 61,
    "start_time": "2024-10-04T06:53:51.852Z"
   },
   {
    "duration": 20,
    "start_time": "2024-10-04T06:53:51.915Z"
   },
   {
    "duration": 62,
    "start_time": "2024-10-04T06:53:51.936Z"
   },
   {
    "duration": 11,
    "start_time": "2024-10-04T06:53:52.001Z"
   },
   {
    "duration": 29,
    "start_time": "2024-10-04T06:53:52.013Z"
   },
   {
    "duration": 34,
    "start_time": "2024-10-04T06:53:52.044Z"
   },
   {
    "duration": 16,
    "start_time": "2024-10-04T06:53:52.079Z"
   },
   {
    "duration": 17,
    "start_time": "2024-10-04T06:53:52.096Z"
   },
   {
    "duration": 5,
    "start_time": "2024-10-04T06:53:52.115Z"
   },
   {
    "duration": 49,
    "start_time": "2024-10-04T06:53:52.122Z"
   },
   {
    "duration": 5,
    "start_time": "2024-10-04T06:53:52.173Z"
   },
   {
    "duration": 18,
    "start_time": "2024-10-04T06:53:52.179Z"
   },
   {
    "duration": 6,
    "start_time": "2024-10-04T06:53:52.200Z"
   },
   {
    "duration": 22,
    "start_time": "2024-10-04T06:53:52.208Z"
   },
   {
    "duration": 5,
    "start_time": "2024-10-04T06:53:52.231Z"
   },
   {
    "duration": 42,
    "start_time": "2024-10-04T06:53:52.239Z"
   },
   {
    "duration": 22,
    "start_time": "2024-10-04T06:53:52.282Z"
   },
   {
    "duration": 18,
    "start_time": "2024-10-04T06:53:52.306Z"
   },
   {
    "duration": 10,
    "start_time": "2024-10-04T06:53:52.326Z"
   },
   {
    "duration": 35,
    "start_time": "2024-10-04T06:53:52.337Z"
   },
   {
    "duration": 5,
    "start_time": "2024-10-04T06:53:52.374Z"
   },
   {
    "duration": 17,
    "start_time": "2024-10-04T06:53:52.380Z"
   },
   {
    "duration": 13,
    "start_time": "2024-10-04T06:53:52.398Z"
   },
   {
    "duration": 132,
    "start_time": "2024-10-04T06:53:52.412Z"
   },
   {
    "duration": 245,
    "start_time": "2024-10-04T06:53:52.545Z"
   },
   {
    "duration": 6729,
    "start_time": "2024-10-04T06:53:52.793Z"
   },
   {
    "duration": 1950,
    "start_time": "2024-10-04T06:53:59.524Z"
   },
   {
    "duration": 574,
    "start_time": "2024-10-04T06:54:01.476Z"
   },
   {
    "duration": 18,
    "start_time": "2024-10-04T06:54:02.052Z"
   },
   {
    "duration": 4411,
    "start_time": "2024-10-04T06:54:02.072Z"
   },
   {
    "duration": 9,
    "start_time": "2024-10-04T06:54:06.485Z"
   },
   {
    "duration": 2017,
    "start_time": "2024-10-04T06:54:06.496Z"
   },
   {
    "duration": 2223,
    "start_time": "2024-10-04T06:54:08.515Z"
   },
   {
    "duration": 13,
    "start_time": "2024-10-04T06:57:53.410Z"
   },
   {
    "duration": 11,
    "start_time": "2024-10-04T06:58:01.281Z"
   },
   {
    "duration": 12,
    "start_time": "2024-10-04T06:58:02.337Z"
   },
   {
    "duration": 13,
    "start_time": "2024-10-04T06:58:03.351Z"
   },
   {
    "duration": 12,
    "start_time": "2024-10-04T06:58:04.397Z"
   },
   {
    "duration": 12,
    "start_time": "2024-10-04T06:58:05.653Z"
   },
   {
    "duration": 11,
    "start_time": "2024-10-04T06:58:06.827Z"
   },
   {
    "duration": 13,
    "start_time": "2024-10-04T06:58:07.913Z"
   },
   {
    "duration": 11,
    "start_time": "2024-10-04T06:58:12.780Z"
   },
   {
    "duration": 6,
    "start_time": "2024-10-04T07:08:30.167Z"
   },
   {
    "duration": 33,
    "start_time": "2024-10-04T07:08:31.575Z"
   },
   {
    "duration": 28,
    "start_time": "2024-10-04T07:08:34.708Z"
   },
   {
    "duration": 9,
    "start_time": "2024-10-04T07:08:37.643Z"
   },
   {
    "duration": 4,
    "start_time": "2024-10-04T07:08:39.497Z"
   },
   {
    "duration": 4,
    "start_time": "2024-10-04T07:08:40.447Z"
   },
   {
    "duration": 28,
    "start_time": "2024-10-04T07:08:42.103Z"
   },
   {
    "duration": 27,
    "start_time": "2024-10-04T07:08:42.322Z"
   },
   {
    "duration": 20,
    "start_time": "2024-10-04T07:08:44.718Z"
   },
   {
    "duration": 235,
    "start_time": "2024-10-04T07:08:47.682Z"
   },
   {
    "duration": 213,
    "start_time": "2024-10-04T07:08:53.272Z"
   },
   {
    "duration": 6765,
    "start_time": "2024-10-04T07:08:57.139Z"
   },
   {
    "duration": 2024,
    "start_time": "2024-10-04T07:12:09.168Z"
   },
   {
    "duration": 605,
    "start_time": "2024-10-04T07:12:16.040Z"
   },
   {
    "duration": 19,
    "start_time": "2024-10-04T07:12:19.192Z"
   },
   {
    "duration": 4433,
    "start_time": "2024-10-04T07:12:27.352Z"
   },
   {
    "duration": 16,
    "start_time": "2024-10-04T07:12:37.687Z"
   },
   {
    "duration": 1989,
    "start_time": "2024-10-04T07:12:49.426Z"
   },
   {
    "duration": 405,
    "start_time": "2024-10-04T07:13:05.421Z"
   },
   {
    "duration": 453,
    "start_time": "2024-10-04T07:13:17.213Z"
   },
   {
    "duration": 265,
    "start_time": "2024-10-04T07:13:28.464Z"
   },
   {
    "duration": 497,
    "start_time": "2024-10-04T07:13:49.658Z"
   },
   {
    "duration": 1441,
    "start_time": "2024-10-04T07:14:08.089Z"
   },
   {
    "duration": 6760,
    "start_time": "2024-10-04T07:15:47.964Z"
   },
   {
    "duration": 1635,
    "start_time": "2024-10-04T07:16:09.601Z"
   },
   {
    "duration": 1478,
    "start_time": "2024-10-04T07:16:31.882Z"
   },
   {
    "duration": 1076,
    "start_time": "2024-10-04T07:16:41.943Z"
   },
   {
    "duration": 747,
    "start_time": "2024-10-04T07:16:50.503Z"
   },
   {
    "duration": 1862,
    "start_time": "2024-10-04T07:21:01.619Z"
   },
   {
    "duration": 4558,
    "start_time": "2024-10-04T07:21:33.642Z"
   },
   {
    "duration": 4541,
    "start_time": "2024-10-04T07:21:45.196Z"
   },
   {
    "duration": 4496,
    "start_time": "2024-10-04T07:23:59.698Z"
   },
   {
    "duration": 535,
    "start_time": "2024-10-04T07:24:11.478Z"
   },
   {
    "duration": 1485,
    "start_time": "2024-10-04T07:25:04.376Z"
   },
   {
    "duration": 1586,
    "start_time": "2024-10-04T07:25:15.838Z"
   },
   {
    "duration": 1292,
    "start_time": "2024-10-04T07:25:35.699Z"
   },
   {
    "duration": 1072,
    "start_time": "2024-10-04T07:25:45.546Z"
   },
   {
    "duration": 161,
    "start_time": "2024-10-07T00:37:10.320Z"
   },
   {
    "duration": 2651,
    "start_time": "2024-10-07T00:37:13.258Z"
   },
   {
    "duration": 104,
    "start_time": "2024-10-07T00:37:16.683Z"
   },
   {
    "duration": 22,
    "start_time": "2024-10-07T00:37:17.661Z"
   }
  ],
  "kernelspec": {
   "display_name": "Python 3 (ipykernel)",
   "language": "python",
   "name": "python3"
  },
  "language_info": {
   "codemirror_mode": {
    "name": "ipython",
    "version": 3
   },
   "file_extension": ".py",
   "mimetype": "text/x-python",
   "name": "python",
   "nbconvert_exporter": "python",
   "pygments_lexer": "ipython3",
   "version": "3.9.19"
  },
  "toc": {
   "base_numbering": 1,
   "nav_menu": {},
   "number_sections": true,
   "sideBar": true,
   "skip_h1_title": true,
   "title_cell": "Table of Contents",
   "title_sidebar": "Contents",
   "toc_cell": false,
   "toc_position": {},
   "toc_section_display": true,
   "toc_window_display": false
  }
 },
 "nbformat": 4,
 "nbformat_minor": 2
}
